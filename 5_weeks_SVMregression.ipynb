{
 "cells": [
  {
   "cell_type": "markdown",
   "metadata": {},
   "source": [
    "# SVM \n",
    "* 변수들 중 r,c가 존재하는데 이는 둘다 커질수록 복잡해 지는 경향을 지님\n",
    "* r은 매개변수로서 훈련 sample이 미치는 영향이며 작을수록 kernel 반경이 커서 많은 sample이 영향을 미쳐 부들부들\n",
    "* c는 변수들의 영향력을 의미하며 클 수록 영향력이 커져서 복잡해짐"
   ]
  },
  {
   "cell_type": "markdown",
   "metadata": {},
   "source": [
    "### 실습 코드 예제"
   ]
  },
  {
   "cell_type": "code",
   "execution_count": 1,
   "metadata": {},
   "outputs": [],
   "source": [
    "from scipy import linalg\n",
    "import numpy as np\n",
    "import matplotlib.pyplot as plt\n",
    "import matplotlib as mpl\n",
    "from matplotlib import colors\n",
    "\n",
    "from sklearn.discriminant_analysis import LinearDiscriminantAnalysis\n",
    "from sklearn.discriminant_analysis import QuadraticDiscriminantAnalysis"
   ]
  },
  {
   "cell_type": "code",
   "execution_count": 4,
   "metadata": {},
   "outputs": [
    {
     "data": {
      "text/plain": [
       "0.9532163742690059"
      ]
     },
     "execution_count": 4,
     "metadata": {},
     "output_type": "execute_result"
    }
   ],
   "source": [
    "# Step0. Load data\n",
    "import sklearn.datasets\n",
    "from sklearn.datasets import load_breast_cancer\n",
    "from sklearn.model_selection import train_test_split\n",
    "data = load_breast_cancer()\n",
    "X = data.data\n",
    "y = data.target\n",
    "\n",
    "# Step1. Train test split\n",
    "X_train, X_test, y_train, y_test = train_test_split(X, y, test_size=0.3,random_state=123, stratify=y)\n",
    "\n",
    "# Step2. Instantiate a model by specifying model hyperparameters\n",
    "from sklearn.svm import SVC\n",
    "svm = SVC(kernel=\"linear\")\n",
    "\n",
    "# Step3. Train / fit the model to the data\n",
    "svm.fit(X_train, y_train)\n",
    "\n",
    "# Step4. Score performance / Make prediction\n",
    "svm.score(X_test, y_test)"
   ]
  },
  {
   "cell_type": "code",
   "execution_count": 5,
   "metadata": {},
   "outputs": [
    {
     "name": "stdout",
     "output_type": "stream",
     "text": [
      "Number of original examples 569\n",
      "Number of support vectors 43\n"
     ]
    },
    {
     "data": {
      "text/plain": [
       "SVC(kernel='linear')"
      ]
     },
     "execution_count": 5,
     "metadata": {},
     "output_type": "execute_result"
    }
   ],
   "source": [
    "# Make a new data set keeping only the support vectors [support vecor을 지닌 데이터를 형성]\n",
    "print(\"Number of original examples\", len(X))\n",
    "print(\"Number of support vectors\", len(svm.support_))\n",
    "X_small = X_train[svm.support_]\n",
    "y_small = y_train[svm.support_]\n",
    "\n",
    "# Train a new SVM using only the support vectors\n",
    "svm_small = SVC(kernel=\"linear\")     #여기서 시행 , 각각의 변수도 설정의 가능함\n",
    "svm_small.fit(X_small, y_small)"
   ]
  },
  {
   "cell_type": "code",
   "execution_count": 6,
   "metadata": {},
   "outputs": [
    {
     "data": {
      "text/plain": [
       "0.9532163742690059"
      ]
     },
     "execution_count": 6,
     "metadata": {},
     "output_type": "execute_result"
    }
   ],
   "source": [
    "svm_small.score(X_test, y_test)"
   ]
  },
  {
   "cell_type": "markdown",
   "metadata": {},
   "source": [
    "### kernel은 데이터의 특성을 증가시키지 않으며 무한한 차원으로 진행을 시킴\n",
    "* 2개의 자주 이용하는 방법으로 진행을 함\n",
    "* 제일 좋은 parameter을 찾는 과정 임으로 이걸 먼저 시행하는게 더 효율적일 듯"
   ]
  },
  {
   "cell_type": "code",
   "execution_count": 8,
   "metadata": {},
   "outputs": [
    {
     "name": "stdout",
     "output_type": "stream",
     "text": [
      "Best CV params {'C': 10, 'gamma': 0.01, 'kernel': 'linear'}\n",
      "Best CV accuracy 0.9572784810126581\n",
      "Test accuracy of best grid search hypers: 0.9649122807017544\n"
     ]
    }
   ],
   "source": [
    "from sklearn.model_selection import GridSearchCV   #제일 좋\n",
    "# Instantiate an RBF SVM\n",
    "svm = SVC()\n",
    "\n",
    "# Instantiate the GridSearchCV object and run the search\n",
    "parameters = {'C':[0.1, 10], 'gamma':[0.01, 0.1], 'kernel': ['linear', 'rbf']}\n",
    "searcher = GridSearchCV(svm, parameters)   #가장좋은 hyperparameter을 찾는 과정임\n",
    "searcher.fit(X_train, y_train)\n",
    "\n",
    "# Report the best parameters and the corresponding score\n",
    "print(\"Best CV params\", searcher.best_params_)\n",
    "print(\"Best CV accuracy\", searcher.best_score_)\n",
    "\n",
    "# Report the test accuracy using these best parameters\n",
    "print(\"Test accuracy of best grid search hypers:\", searcher.score(X_test, y_test))"
   ]
  },
  {
   "cell_type": "markdown",
   "metadata": {},
   "source": [
    "### SVM을 위한 데이터의 전처리 시행\n",
    "* 데이터의 range가 클 시 정규화를 통해 모든 값을 0~1사이로 맞추는 과정을 실시\n",
    "* 이걸 제일 먼저 해야 하는게 더 나을듯 싶음(시간이 나면 하자)"
   ]
  },
  {
   "cell_type": "code",
   "execution_count": 10,
   "metadata": {},
   "outputs": [],
   "source": [
    "min_on_training = X_train.min(axis=0)\n",
    "range_on_training = (X_train-min_on_training).max(axis=0)\n",
    "\n",
    "X_train_scaled = (X_train-min_on_training)/ range_on_training\n",
    "X_test_scaled = (X_test-min_on_training)/range_on_training   #동일하게 전처리를 시행 함\n"
   ]
  },
  {
   "cell_type": "code",
   "execution_count": null,
   "metadata": {},
   "outputs": [],
   "source": []
  }
 ],
 "metadata": {
  "kernelspec": {
   "display_name": "Python 3",
   "language": "python",
   "name": "python3"
  },
  "language_info": {
   "codemirror_mode": {
    "name": "ipython",
    "version": 3
   },
   "file_extension": ".py",
   "mimetype": "text/x-python",
   "name": "python",
   "nbconvert_exporter": "python",
   "pygments_lexer": "ipython3",
   "version": "3.8.5"
  }
 },
 "nbformat": 4,
 "nbformat_minor": 4
}
