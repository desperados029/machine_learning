{
 "cells": [
  {
   "cell_type": "markdown",
   "metadata": {
    "id": "Zcm5WtFR1po_"
   },
   "source": [
    "# 1. LDA / QDA"
   ]
  },
  {
   "cell_type": "code",
   "execution_count": 101,
   "metadata": {
    "executionInfo": {
     "elapsed": 1084,
     "status": "ok",
     "timestamp": 1617340883042,
     "user": {
      "displayName": "­박민우 / 학생 / 컴퓨터공학부",
      "photoUrl": "",
      "userId": "03447469205339352309"
     },
     "user_tz": -540
    },
    "id": "33keSIdk1ppF"
   },
   "outputs": [],
   "source": [
    "from scipy import linalg\n",
    "import numpy as np\n",
    "import matplotlib.pyplot as plt\n",
    "import matplotlib as mpl\n",
    "from matplotlib import colors\n",
    "\n",
    "from sklearn.discriminant_analysis import LinearDiscriminantAnalysis\n",
    "from sklearn.discriminant_analysis import QuadraticDiscriminantAnalysis"
   ]
  },
  {
   "cell_type": "code",
   "execution_count": 102,
   "metadata": {
    "colab": {
     "base_uri": "https://localhost:8080/",
     "height": 34
    },
    "executionInfo": {
     "elapsed": 1272,
     "status": "ok",
     "timestamp": 1617340886654,
     "user": {
      "displayName": "­박민우 / 학생 / 컴퓨터공학부",
      "photoUrl": "",
      "userId": "03447469205339352309"
     },
     "user_tz": -540
    },
    "id": "sO9ozzmz1ppG",
    "outputId": "9afbb567-8ef2-45f2-ecd1-de5e40fd5ee9"
   },
   "outputs": [
    {
     "data": {
      "text/plain": [
       "<Figure size 720x576 with 0 Axes>"
      ]
     },
     "metadata": {
      "tags": []
     },
     "output_type": "display_data"
    }
   ],
   "source": [
    "# #############################################################################\n",
    "# Colormap\n",
    "cmap = colors.LinearSegmentedColormap(\n",
    "    'red_blue_classes',\n",
    "    {'red': [(0, 1, 1), (1, 0.7, 0.7)],\n",
    "     'green': [(0, 0.7, 0.7), (1, 0.7, 0.7)],\n",
    "     'blue': [(0, 0.7, 0.7), (1, 1, 1)]})\n",
    "plt.cm.register_cmap(cmap=cmap)\n",
    "\n",
    "# #############################################################################\n",
    "# Plot functions\n",
    "def plot_data(lda, X, y, y_pred, fig_index=0):\n",
    "    splot = plt.subplot(2, 2, fig_index)\n",
    "    if fig_index == 1:\n",
    "        plt.title('Linear Discriminant Analysis')\n",
    "        plt.ylabel('Data with\\n fixed covariance')\n",
    "    elif fig_index == 2:\n",
    "        plt.title('Quadratic Discriminant Analysis')\n",
    "    elif fig_index == 3:\n",
    "        plt.ylabel('Data with\\n varying covariances')\n",
    "\n",
    "    tp = (y == y_pred)  # True Positive\n",
    "    tp0, tp1 = tp[y == 0], tp[y == 1]\n",
    "    X0, X1 = X[y == 0], X[y == 1]\n",
    "    X0_tp, X0_fp = X0[tp0], X0[~tp0]\n",
    "    X1_tp, X1_fp = X1[tp1], X1[~tp1]\n",
    "\n",
    "    # class 0: dots\n",
    "    plt.scatter(X0_tp[:, 0], X0_tp[:, 1], marker='.', color='red')\n",
    "    plt.scatter(X0_fp[:, 0], X0_fp[:, 1], marker='x',\n",
    "                s=20, color='#990000')  # dark red\n",
    "\n",
    "    # class 1: dots\n",
    "    plt.scatter(X1_tp[:, 0], X1_tp[:, 1], marker='.', color='blue')\n",
    "    plt.scatter(X1_fp[:, 0], X1_fp[:, 1], marker='x',\n",
    "                s=20, color='#000099')  # dark blue\n",
    "\n",
    "    # class 0 and 1 : areas\n",
    "    nx, ny = 200, 100\n",
    "    x_min, x_max = plt.xlim()\n",
    "    y_min, y_max = plt.ylim()\n",
    "    xx, yy = np.meshgrid(np.linspace(x_min, x_max, nx),\n",
    "                         np.linspace(y_min, y_max, ny))\n",
    "    Z = lda.predict_proba(np.c_[xx.ravel(), yy.ravel()])\n",
    "    Z = Z[:, 1].reshape(xx.shape)\n",
    "    plt.pcolormesh(xx, yy, Z, cmap='red_blue_classes',\n",
    "                   norm=colors.Normalize(0., 1.), zorder=0)\n",
    "    plt.contour(xx, yy, Z, [0.5], linewidths=2., colors='white')\n",
    "\n",
    "    # means\n",
    "    plt.plot(lda.means_[0][0], lda.means_[0][1],\n",
    "             '*', color='yellow', markersize=15, markeredgecolor='grey')\n",
    "    plt.plot(lda.means_[1][0], lda.means_[1][1],\n",
    "             '*', color='yellow', markersize=15, markeredgecolor='grey')\n",
    "\n",
    "    return splot\n",
    "\n",
    "\n",
    "def plot_ellipse(splot, mean, cov, color):\n",
    "    v, w = linalg.eigh(cov)\n",
    "    u = w[0] / linalg.norm(w[0])\n",
    "    angle = np.arctan(u[1] / u[0])\n",
    "    angle = 180 * angle / np.pi  # convert to degrees\n",
    "    # filled Gaussian at 2 standard deviation\n",
    "    ell = mpl.patches.Ellipse(mean, 2 * v[0] ** 0.5, 2 * v[1] ** 0.5,\n",
    "                              180 + angle, facecolor=color,\n",
    "                              edgecolor='black', linewidth=2)\n",
    "    ell.set_clip_box(splot.bbox)\n",
    "    ell.set_alpha(0.2)\n",
    "    splot.add_artist(ell)\n",
    "    splot.set_xticks(())\n",
    "    splot.set_yticks(())\n",
    "\n",
    "\n",
    "def plot_lda_cov(lda, splot):\n",
    "    plot_ellipse(splot, lda.means_[0], lda.covariance_, 'red')\n",
    "    plot_ellipse(splot, lda.means_[1], lda.covariance_, 'blue')\n",
    "\n",
    "\n",
    "def plot_qda_cov(qda, splot):\n",
    "    plot_ellipse(splot, qda.means_[0], qda.covariance_[0], 'red')\n",
    "    plot_ellipse(splot, qda.means_[1], qda.covariance_[1], 'blue')\n",
    "\n",
    "\n",
    "plt.figure(figsize=(10, 8), facecolor='white')\n",
    "plt.suptitle('Linear Discriminant Analysis vs Quadratic Discriminant Analysis',\n",
    "             y=0.98, fontsize=15)\n",
    "\n",
    "def plot_sep(lda, X, y, y_pred):\n",
    "    tp = (y == y_pred)  # True Positive\n",
    "    tp0, tp1 = tp[y == 0], tp[y == 1]\n",
    "    X0, X1 = X[y == 0], X[y == 1]\n",
    "    X0_tp, X0_fp = X0[tp0], X0[~tp0]\n",
    "    X1_tp, X1_fp = X1[tp1], X1[~tp1]\n",
    "\n",
    "    # class 0: dots\n",
    "    plt.scatter(X0_tp[:, 0], X0_tp[:, 1], marker='.', color='red')\n",
    "    plt.scatter(X0_fp[:, 0], X0_fp[:, 1], marker='x',\n",
    "                s=20, color='#990000')  # dark red\n",
    "\n",
    "    # class 1: dots\n",
    "    plt.scatter(X1_tp[:, 0], X1_tp[:, 1], marker='.', color='blue')\n",
    "    plt.scatter(X1_fp[:, 0], X1_fp[:, 1], marker='x',\n",
    "                s=20, color='#000099')  # dark blue\n",
    "\n",
    "    # class 0 and 1 : areas\n",
    "    nx, ny = 200, 100\n",
    "    x_min, x_max = plt.xlim()\n",
    "    y_min, y_max = plt.ylim()\n",
    "    xx, yy = np.meshgrid(np.linspace(x_min, x_max, nx),\n",
    "                         np.linspace(y_min, y_max, ny))\n",
    "    Z = lda.predict_proba(np.c_[xx.ravel(), yy.ravel()])\n",
    "    Z = Z[:, 1].reshape(xx.shape)\n",
    "    plt.pcolormesh(xx, yy, Z, cmap='red_blue_classes',\n",
    "                   norm=colors.Normalize(0., 1.), zorder=0)\n",
    "    plt.contour(xx, yy, Z, [0.5], linewidths=2., colors='white')\n",
    "\n",
    "    # means\n",
    "    plt.plot(lda.means_[0][0], lda.means_[0][1],\n",
    "             '*', color='yellow', markersize=15, markeredgecolor='grey')\n",
    "    plt.plot(lda.means_[1][0], lda.means_[1][1],\n",
    "             '*', color='yellow', markersize=15, markeredgecolor='grey')"
   ]
  },
  {
   "cell_type": "markdown",
   "metadata": {
    "id": "4HmyFKcR1ppH"
   },
   "source": [
    "## Create and load Data"
   ]
  },
  {
   "cell_type": "code",
   "execution_count": 103,
   "metadata": {
    "executionInfo": {
     "elapsed": 651,
     "status": "ok",
     "timestamp": 1617340896497,
     "user": {
      "displayName": "­박민우 / 학생 / 컴퓨터공학부",
      "photoUrl": "",
      "userId": "03447469205339352309"
     },
     "user_tz": -540
    },
    "id": "h4c5OdJ61ppH"
   },
   "outputs": [],
   "source": [
    "# #############################################################################\n",
    "# Generate datasets\n",
    "def dataset_fixed_cov():\n",
    "    '''Generate 2 Gaussians samples with the same covariance matrix'''\n",
    "    n, dim = 300, 2\n",
    "    np.random.seed(0)\n",
    "    C = np.array([[0., -0.23], [0.83, .23]])\n",
    "    X = np.r_[np.dot(np.random.randn(n, dim), C),\n",
    "              np.dot(np.random.randn(n, dim), C) + np.array([1, 1])]\n",
    "    y = np.hstack((np.zeros(n), np.ones(n)))\n",
    "    return X, y\n",
    "\n",
    "\n",
    "def dataset_cov():\n",
    "    '''Generate 2 Gaussians samples with different covariance matrices'''\n",
    "    n, dim = 300, 2\n",
    "    np.random.seed(0)\n",
    "    C = np.array([[0., -1.], [2.5, .7]]) * 2.\n",
    "    X = np.r_[np.dot(np.random.randn(n, dim), C),\n",
    "              np.dot(np.random.randn(n, dim), C.T) + np.array([1, 4])]\n",
    "    y = np.hstack((np.zeros(n), np.ones(n)))\n",
    "    return X, y\n",
    "\n",
    "LDA_data = dataset_fixed_cov()\n",
    "QDA_data = dataset_cov()"
   ]
  },
  {
   "cell_type": "markdown",
   "metadata": {
    "id": "OVFIt8cF1ppI"
   },
   "source": [
    "### LDA Data"
   ]
  },
  {
   "cell_type": "code",
   "execution_count": 104,
   "metadata": {
    "colab": {
     "base_uri": "https://localhost:8080/",
     "height": 282
    },
    "executionInfo": {
     "elapsed": 759,
     "status": "ok",
     "timestamp": 1617340903226,
     "user": {
      "displayName": "­박민우 / 학생 / 컴퓨터공학부",
      "photoUrl": "",
      "userId": "03447469205339352309"
     },
     "user_tz": -540
    },
    "id": "wAxwPTlh1ppI",
    "outputId": "ebed5ca3-402e-4ba5-bfe9-65d03e2783b3"
   },
   "outputs": [
    {
     "data": {
      "text/plain": [
       "<matplotlib.collections.PathCollection at 0x7f95c05faf10>"
      ]
     },
     "execution_count": 104,
     "metadata": {
      "tags": []
     },
     "output_type": "execute_result"
    },
    {
     "data": {
      "image/png": "[encoded data removed]",
      "text/plain": [
       "<Figure size 432x288 with 1 Axes>"
      ]
     },
     "metadata": {
      "needs_background": "light",
      "tags": []
     },
     "output_type": "display_data"
    }
   ],
   "source": [
    "y_0 = LDA_data[1][LDA_data[1] == 0]\n",
    "X_0 = LDA_data[0][LDA_data[1] == 0]\n",
    "\n",
    "plt.scatter(X_0[:, 0], X_0[:, 1], marker='.', color='red')\n",
    "plt.scatter(X_0[:, 0], X_0[:, 1], marker='x', s=20, color='#990000')\n",
    "\n",
    "y_1 = LDA_data[1][LDA_data[1] == 1]\n",
    "X_1 = LDA_data[0][LDA_data[1] == 1]\n",
    "\n",
    "plt.scatter(X_1[:, 0], X_1[:, 1], marker='.', color='blue')\n",
    "plt.scatter(X_1[:, 0], X_1[:, 1], marker='x', s=20, color='#000099')"
   ]
  },
  {
   "cell_type": "markdown",
   "metadata": {
    "id": "bF5XrDi-1ppJ"
   },
   "source": [
    "### QDA Data"
   ]
  },
  {
   "cell_type": "code",
   "execution_count": 105,
   "metadata": {
    "colab": {
     "base_uri": "https://localhost:8080/",
     "height": 282
    },
    "executionInfo": {
     "elapsed": 689,
     "status": "ok",
     "timestamp": 1617340911354,
     "user": {
      "displayName": "­박민우 / 학생 / 컴퓨터공학부",
      "photoUrl": "",
      "userId": "03447469205339352309"
     },
     "user_tz": -540
    },
    "id": "W-LXXl-q1ppJ",
    "outputId": "a3ce3bb1-7efa-4baa-8aee-0d4c97caaa9b"
   },
   "outputs": [
    {
     "data": {
      "text/plain": [
       "<matplotlib.collections.PathCollection at 0x7f95c05e8d10>"
      ]
     },
     "execution_count": 105,
     "metadata": {
      "tags": []
     },
     "output_type": "execute_result"
    },
    {
     "data": {
      "image/png": "[encoded data removed]",
      "text/plain": [
       "<Figure size 432x288 with 1 Axes>"
      ]
     },
     "metadata": {
      "needs_background": "light",
      "tags": []
     },
     "output_type": "display_data"
    }
   ],
   "source": [
    "y_0 = QDA_data[1][QDA_data[1] == 0]\n",
    "X_0 = QDA_data[0][QDA_data[1] == 0]\n",
    "\n",
    "plt.scatter(X_0[:, 0], X_0[:, 1], marker='.', color='red')\n",
    "plt.scatter(X_0[:, 0], X_0[:, 1], marker='x', s=20, color='#990000')\n",
    "\n",
    "y_1 = QDA_data[1][QDA_data[1] == 1]\n",
    "X_1 = QDA_data[0][QDA_data[1] == 1]\n",
    "\n",
    "plt.scatter(X_1[:, 0], X_1[:, 1], marker='.', color='blue')\n",
    "plt.scatter(X_1[:, 0], X_1[:, 1], marker='x', s=20, color='#000099')"
   ]
  },
  {
   "cell_type": "code",
   "execution_count": 106,
   "metadata": {
    "colab": {
     "base_uri": "https://localhost:8080/"
    },
    "executionInfo": {
     "elapsed": 557,
     "status": "ok",
     "timestamp": 1617340952732,
     "user": {
      "displayName": "­박민우 / 학생 / 컴퓨터공학부",
      "photoUrl": "",
      "userId": "03447469205339352309"
     },
     "user_tz": -540
    },
    "id": "Xsr8Q2x-1ppJ",
    "outputId": "6a1c62a3-7598-4263-8b7b-73037442ce34"
   },
   "outputs": [
    {
     "data": {
      "text/plain": [
       "array([0., 0., 0., 0., 0., 0., 0., 0., 0., 0., 1., 0., 0., 0., 0., 0., 0.,\n",
       "       0., 0., 0., 0., 1., 0., 0., 0., 0., 0., 0., 0., 0., 0., 0., 0., 1.,\n",
       "       0., 0., 0., 0., 0., 0., 0., 0., 0., 0., 0., 0., 0., 0., 0., 0., 0.,\n",
       "       0., 1., 0., 0., 0., 0., 0., 0., 0., 0., 0., 0., 0., 0., 0., 0., 0.,\n",
       "       0., 0., 0., 0., 0., 0., 0., 0., 0., 0., 0., 0., 0., 0., 0., 0., 0.,\n",
       "       0., 0., 0., 0., 0., 0., 0., 0., 0., 0., 0., 0., 0., 0., 0., 0., 0.,\n",
       "       0., 0., 0., 0., 0., 0., 0., 0., 0., 0., 0., 0., 0., 0., 0., 0., 0.,\n",
       "       0., 0., 0., 0., 0., 0., 0., 0., 0., 0., 1., 0., 0., 1., 0., 0., 0.,\n",
       "       0., 0., 0., 1., 0., 0., 0., 0., 0., 0., 0., 0., 0., 0., 1., 0., 0.,\n",
       "       0., 0., 0., 0., 0., 0., 0., 0., 0., 0., 0., 0., 0., 0., 1., 1., 0.,\n",
       "       0., 0., 0., 0., 0., 0., 0., 0., 0., 0., 0., 0., 0., 0., 0., 0., 0.,\n",
       "       0., 0., 0., 1., 1., 0., 0., 0., 0., 0., 0., 0., 0., 0., 0., 1., 0.,\n",
       "       0., 0., 0., 0., 0., 0., 0., 1., 0., 0., 0., 0., 0., 0., 0., 0., 0.,\n",
       "       0., 0., 0., 0., 0., 0., 0., 0., 0., 0., 0., 0., 0., 1., 0., 0., 0.,\n",
       "       0., 0., 0., 0., 0., 0., 0., 0., 0., 0., 0., 0., 0., 0., 0., 0., 0.,\n",
       "       0., 0., 0., 0., 0., 0., 0., 0., 0., 1., 1., 0., 0., 0., 0., 0., 0.,\n",
       "       0., 0., 0., 0., 0., 0., 1., 0., 0., 0., 0., 0., 0., 0., 0., 0., 0.,\n",
       "       0., 0., 0., 0., 0., 0., 0., 0., 0., 0., 0., 1., 1., 1., 1., 1., 1.,\n",
       "       1., 1., 1., 0., 1., 1., 1., 1., 1., 1., 1., 1., 1., 1., 1., 1., 1.,\n",
       "       1., 1., 1., 1., 1., 1., 1., 1., 1., 1., 1., 1., 1., 1., 1., 1., 1.,\n",
       "       1., 1., 1., 0., 1., 1., 1., 1., 1., 1., 1., 1., 1., 1., 1., 1., 1.,\n",
       "       1., 1., 1., 1., 1., 1., 1., 1., 1., 1., 0., 1., 1., 1., 1., 1., 1.,\n",
       "       1., 1., 1., 1., 1., 1., 1., 1., 1., 1., 0., 1., 1., 1., 1., 1., 1.,\n",
       "       1., 1., 1., 1., 1., 1., 1., 1., 1., 1., 1., 1., 1., 1., 1., 1., 1.,\n",
       "       1., 1., 1., 1., 1., 1., 1., 1., 1., 1., 1., 1., 1., 1., 1., 1., 1.,\n",
       "       1., 1., 1., 1., 1., 1., 1., 1., 1., 1., 1., 1., 1., 1., 1., 1., 1.,\n",
       "       1., 1., 1., 1., 1., 1., 1., 0., 1., 1., 1., 1., 1., 1., 0., 1., 1.,\n",
       "       1., 1., 1., 1., 1., 1., 1., 1., 1., 1., 1., 1., 1., 1., 1., 1., 1.,\n",
       "       1., 1., 1., 0., 1., 1., 1., 1., 1., 1., 1., 0., 1., 1., 1., 1., 1.,\n",
       "       1., 1., 1., 1., 1., 1., 1., 1., 1., 1., 1., 1., 1., 1., 1., 1., 1.,\n",
       "       1., 1., 0., 1., 1., 1., 1., 1., 1., 1., 1., 1., 1., 1., 1., 1., 1.,\n",
       "       0., 1., 1., 1., 1., 1., 1., 1., 1., 1., 1., 1., 1., 1., 1., 1., 1.,\n",
       "       1., 1., 1., 0., 1., 1., 1., 0., 1., 1., 1., 1., 1., 0., 1., 1., 1.,\n",
       "       1., 1., 1., 1., 1., 1., 1., 1., 1., 1., 0., 1., 1., 1., 1., 1., 1.,\n",
       "       1., 0., 1., 1., 1., 1., 1., 1., 1., 0., 1., 1., 0., 1., 1., 1., 1.,\n",
       "       1., 1., 1., 1., 1.])"
      ]
     },
     "execution_count": 106,
     "metadata": {
      "tags": []
     },
     "output_type": "execute_result"
    }
   ],
   "source": [
    "# Step0. Load data\n",
    "X = LDA_data[0]\n",
    "y = LDA_data[1]\n",
    "\n",
    "# Step1. Import classifier model\n",
    "from sklearn.discriminant_analysis import LinearDiscriminantAnalysis\n",
    "\n",
    "# Step2. Instantiate a model by specifying model hyperparameters\n",
    "lda = LinearDiscriminantAnalysis(solver=\"svd\", store_covariance=True)\n",
    "\n",
    "# Step3. Train / fit the model to the data\n",
    "lda.fit(X, y)\n",
    "\n",
    "# Step4. Make prediction\n",
    "lda.predict(X)"
   ]
  },
  {
   "cell_type": "code",
   "execution_count": 107,
   "metadata": {
    "colab": {
     "base_uri": "https://localhost:8080/"
    },
    "executionInfo": {
     "elapsed": 623,
     "status": "ok",
     "timestamp": 1617340981388,
     "user": {
      "displayName": "­박민우 / 학생 / 컴퓨터공학부",
      "photoUrl": "",
      "userId": "03447469205339352309"
     },
     "user_tz": -540
    },
    "id": "c-CchPsC1ppJ",
    "outputId": "c08e5c42-4b83-4d21-e6bb-aa65244e75aa"
   },
   "outputs": [
    {
     "data": {
      "text/plain": [
       "0.9416666666666667"
      ]
     },
     "execution_count": 107,
     "metadata": {
      "tags": []
     },
     "output_type": "execute_result"
    }
   ],
   "source": [
    "# Step5. (Test model) compute performance score on data\n",
    "lda.score(X, y)"
   ]
  },
  {
   "cell_type": "code",
   "execution_count": 108,
   "metadata": {
    "colab": {
     "base_uri": "https://localhost:8080/",
     "height": 333
    },
    "executionInfo": {
     "elapsed": 721,
     "status": "ok",
     "timestamp": 1617340992352,
     "user": {
      "displayName": "­박민우 / 학생 / 컴퓨터공학부",
      "photoUrl": "",
      "userId": "03447469205339352309"
     },
     "user_tz": -540
    },
    "id": "ckDUt0-x1ppK",
    "outputId": "8ef30b3c-177d-484a-9384-489da538e31e"
   },
   "outputs": [
    {
     "data": {
      "text/plain": [
       "(-2.8192269094900317,\n",
       " 3.581192918644006,\n",
       " -0.988703625549599,\n",
       " 1.9187274256945348)"
      ]
     },
     "execution_count": 108,
     "metadata": {
      "tags": []
     },
     "output_type": "execute_result"
    },
    {
     "data": {
      "image/png": "[encoded data removed]",
      "text/plain": [
       "<Figure size 432x288 with 1 Axes>"
      ]
     },
     "metadata": {
      "needs_background": "light",
      "tags": []
     },
     "output_type": "display_data"
    }
   ],
   "source": [
    "# Linear Discriminant Analysis\n",
    "lda = LinearDiscriminantAnalysis(solver=\"svd\", store_covariance=True)\n",
    "y_pred = lda.fit(X, y).predict(X)\n",
    "plot_sep(lda, X, y, y_pred)\n",
    "plt.axis('tight')"
   ]
  },
  {
   "cell_type": "code",
   "execution_count": 110,
   "metadata": {
    "colab": {
     "base_uri": "https://localhost:8080/",
     "height": 265
    },
    "executionInfo": {
     "elapsed": 940,
     "status": "ok",
     "timestamp": 1617341015697,
     "user": {
      "displayName": "­박민우 / 학생 / 컴퓨터공학부",
      "photoUrl": "",
      "userId": "03447469205339352309"
     },
     "user_tz": -540
    },
    "id": "9BLaGatf1ppK",
    "outputId": "b49c360d-10e9-4726-eccb-fe210277c7a7"
   },
   "outputs": [
    {
     "data": {
      "image/png": "[encoded data removed]",
      "text/plain": [
       "<Figure size 432x288 with 1 Axes>"
      ]
     },
     "metadata": {
      "needs_background": "light",
      "tags": []
     },
     "output_type": "display_data"
    }
   ],
   "source": [
    "# Quadratic Discriminant Analysis\n",
    "qda = QuadraticDiscriminantAnalysis(store_covariance=True)\n",
    "qda.fit(X, y).predict(X)\n",
    "plot_sep(qda, X, y, y_pred)"
   ]
  },
  {
   "cell_type": "markdown",
   "metadata": {
    "id": "_z3OCWs51ppK"
   },
   "source": [
    "## Comparison"
   ]
  },
  {
   "cell_type": "code",
   "execution_count": 111,
   "metadata": {
    "colab": {
     "base_uri": "https://localhost:8080/",
     "height": 301
    },
    "executionInfo": {
     "elapsed": 1532,
     "status": "ok",
     "timestamp": 1617341020000,
     "user": {
      "displayName": "­박민우 / 학생 / 컴퓨터공학부",
      "photoUrl": "",
      "userId": "03447469205339352309"
     },
     "user_tz": -540
    },
    "id": "MJnAoZ3e1ppK",
    "outputId": "daa3a1c2-7291-4ed1-fab5-4e0c3c2211ab"
   },
   "outputs": [
    {
     "data": {
      "image/png": "[encoded data removed]",
      "text/plain": [
       "<Figure size 432x288 with 4 Axes>"
      ]
     },
     "metadata": {
      "tags": []
     },
     "output_type": "display_data"
    }
   ],
   "source": [
    "for i, (X, y) in enumerate([dataset_fixed_cov(), dataset_cov()]):\n",
    "    # Linear Discriminant Analysis\n",
    "    lda = LinearDiscriminantAnalysis(solver=\"svd\", store_covariance=True)\n",
    "    y_pred = lda.fit(X, y).predict(X)\n",
    "    splot = plot_data(lda, X, y, y_pred, fig_index=2 * i + 1)\n",
    "    plot_lda_cov(lda, splot)\n",
    "    plt.axis('tight')\n",
    "    \n",
    "    # Quadratic Discriminant Analysis\n",
    "    qda = QuadraticDiscriminantAnalysis(store_covariance=True)\n",
    "    y_pred = qda.fit(X, y).predict(X)\n",
    "    splot = plot_data(qda, X, y, y_pred, fig_index=2 * i + 2)\n",
    "    plot_qda_cov(qda, splot)\n",
    "    plt.axis('tight')\n",
    "plt.tight_layout()\n",
    "plt.subplots_adjust(top=0.92)"
   ]
  },
  {
   "cell_type": "markdown",
   "metadata": {
    "id": "N-jDAJGh1ppL"
   },
   "source": [
    "# 2. Logistic Regression"
   ]
  },
  {
   "cell_type": "markdown",
   "metadata": {
    "id": "VLe4eJIW1ppL"
   },
   "source": [
    "## 2-1) Basic Model (Breast Cancer Data)"
   ]
  },
  {
   "cell_type": "code",
   "execution_count": 112,
   "metadata": {
    "colab": {
     "base_uri": "https://localhost:8080/"
    },
    "executionInfo": {
     "elapsed": 1134,
     "status": "ok",
     "timestamp": 1617342213593,
     "user": {
      "displayName": "­박민우 / 학생 / 컴퓨터공학부",
      "photoUrl": "",
      "userId": "03447469205339352309"
     },
     "user_tz": -540
    },
    "id": "N3qd12Kd1ppL",
    "outputId": "5dc9c68d-deff-4ec6-876d-c342f39912db"
   },
   "outputs": [
    {
     "data": {
      "text/plain": [
       "array([0, 1, 0])"
      ]
     },
     "execution_count": 112,
     "metadata": {
      "tags": []
     },
     "output_type": "execute_result"
    }
   ],
   "source": [
    "import sklearn.datasets\n",
    "from sklearn.datasets import load_breast_cancer\n",
    "data = load_breast_cancer()\n",
    "X = data.data\n",
    "y = data.target\n",
    "data.target[[10, 50, 85]]"
   ]
  },
  {
   "cell_type": "code",
   "execution_count": 113,
   "metadata": {
    "colab": {
     "base_uri": "https://localhost:8080/"
    },
    "executionInfo": {
     "elapsed": 1012,
     "status": "ok",
     "timestamp": 1617342217820,
     "user": {
      "displayName": "­박민우 / 학생 / 컴퓨터공학부",
      "photoUrl": "",
      "userId": "03447469205339352309"
     },
     "user_tz": -540
    },
    "id": "04QrwlXW1ppL",
    "outputId": "ac07e4c5-b0a8-4ae4-d6b0-bd7e8d2133ac"
   },
   "outputs": [
    {
     "data": {
      "text/plain": [
       "['malignant', 'benign']"
      ]
     },
     "execution_count": 113,
     "metadata": {
      "tags": []
     },
     "output_type": "execute_result"
    }
   ],
   "source": [
    "list(data.target_names)"
   ]
  },
  {
   "cell_type": "code",
   "execution_count": 114,
   "metadata": {
    "colab": {
     "base_uri": "https://localhost:8080/"
    },
    "executionInfo": {
     "elapsed": 1537,
     "status": "ok",
     "timestamp": 1617342244984,
     "user": {
      "displayName": "­박민우 / 학생 / 컴퓨터공학부",
      "photoUrl": "",
      "userId": "03447469205339352309"
     },
     "user_tz": -540
    },
    "id": "7cTcF-hB1ppL",
    "outputId": "e775864d-cb5c-4af6-db08-3addd5135d98",
    "scrolled": false
   },
   "outputs": [
    {
     "data": {
      "text/plain": [
       "LogisticRegression(C=1.0, class_weight=None, dual=False, fit_intercept=True,\n",
       "                   intercept_scaling=1, l1_ratio=None, max_iter=100,\n",
       "                   multi_class='auto', n_jobs=None, penalty='l2',\n",
       "                   random_state=None, solver='liblinear', tol=0.0001, verbose=0,\n",
       "                   warm_start=False)"
      ]
     },
     "execution_count": 114,
     "metadata": {
      "tags": []
     },
     "output_type": "execute_result"
    }
   ],
   "source": [
    "from sklearn.linear_model import LogisticRegression\n",
    "\n",
    "lr = LogisticRegression(solver='liblinear')\n",
    "lr.fit(X, y)"
   ]
  },
  {
   "cell_type": "code",
   "execution_count": 115,
   "metadata": {
    "colab": {
     "base_uri": "https://localhost:8080/"
    },
    "executionInfo": {
     "elapsed": 997,
     "status": "ok",
     "timestamp": 1617342258604,
     "user": {
      "displayName": "­박민우 / 학생 / 컴퓨터공학부",
      "photoUrl": "",
      "userId": "03447469205339352309"
     },
     "user_tz": -540
    },
    "id": "2xVwPNMY1ppM",
    "outputId": "9efd3608-d389-4d12-df2c-85cc77b5778b"
   },
   "outputs": [
    {
     "data": {
      "text/plain": [
       "0.9595782073813708"
      ]
     },
     "execution_count": 115,
     "metadata": {
      "tags": []
     },
     "output_type": "execute_result"
    }
   ],
   "source": [
    "lr.score(X, y)"
   ]
  },
  {
   "cell_type": "code",
   "execution_count": 116,
   "metadata": {
    "colab": {
     "base_uri": "https://localhost:8080/"
    },
    "executionInfo": {
     "elapsed": 618,
     "status": "ok",
     "timestamp": 1617342268028,
     "user": {
      "displayName": "­박민우 / 학생 / 컴퓨터공학부",
      "photoUrl": "",
      "userId": "03447469205339352309"
     },
     "user_tz": -540
    },
    "id": "vp4tI3dP1ppM",
    "outputId": "235d9c7f-5593-4442-9d75-8a2480c45a63",
    "scrolled": true
   },
   "outputs": [
    {
     "data": {
      "text/plain": [
       "array([[1.00000000e+00, 2.62841744e-15]])"
      ]
     },
     "execution_count": 116,
     "metadata": {
      "tags": []
     },
     "output_type": "execute_result"
    }
   ],
   "source": [
    "lr.predict_proba(X[:1])"
   ]
  },
  {
   "cell_type": "code",
   "execution_count": 117,
   "metadata": {
    "colab": {
     "base_uri": "https://localhost:8080/"
    },
    "executionInfo": {
     "elapsed": 696,
     "status": "ok",
     "timestamp": 1617342307698,
     "user": {
      "displayName": "­박민우 / 학생 / 컴퓨터공학부",
      "photoUrl": "",
      "userId": "03447469205339352309"
     },
     "user_tz": -540
    },
    "id": "LWunsXbDHK6Q",
    "outputId": "294af134-6d0e-4f07-ce0f-c9c4e1777f9d"
   },
   "outputs": [
    {
     "data": {
      "text/plain": [
       "0"
      ]
     },
     "execution_count": 117,
     "metadata": {
      "tags": []
     },
     "output_type": "execute_result"
    }
   ],
   "source": [
    "y[0]"
   ]
  },
  {
   "cell_type": "markdown",
   "metadata": {
    "id": "BVEwFbgI1ppM"
   },
   "source": [
    "## 2-2) How LR makes predictions"
   ]
  },
  {
   "cell_type": "code",
   "execution_count": 118,
   "metadata": {
    "colab": {
     "base_uri": "https://localhost:8080/"
    },
    "executionInfo": {
     "elapsed": 1250,
     "status": "ok",
     "timestamp": 1617342407969,
     "user": {
      "displayName": "­박민우 / 학생 / 컴퓨터공학부",
      "photoUrl": "",
      "userId": "03447469205339352309"
     },
     "user_tz": -540
    },
    "id": "9DD7IkHE1ppM",
    "outputId": "ea0248e1-6b1f-47b4-ded7-6ed800eed76e"
   },
   "outputs": [
    {
     "name": "stdout",
     "output_type": "stream",
     "text": [
      "[0 1 2]\n",
      "[3 4 5]\n",
      "14\n",
      "14\n"
     ]
    }
   ],
   "source": [
    "# === Dot product === #\n",
    "x = np.arange(3)\n",
    "y = np.arange(3,6)\n",
    "print(x)\n",
    "print(y)\n",
    "print(np.sum(x*y))\n",
    "print(x@y)"
   ]
  },
  {
   "cell_type": "code",
   "execution_count": 123,
   "metadata": {
    "colab": {
     "base_uri": "https://localhost:8080/"
    },
    "executionInfo": {
     "elapsed": 630,
     "status": "ok",
     "timestamp": 1617342598198,
     "user": {
      "displayName": "­박민우 / 학생 / 컴퓨터공학부",
      "photoUrl": "",
      "userId": "03447469205339352309"
     },
     "user_tz": -540
    },
    "id": "6BQkUoG-1ppN",
    "outputId": "e98287e7-21d0-4c5a-83cf-a11c571588c1"
   },
   "outputs": [
    {
     "data": {
      "text/plain": [
       "LogisticRegression(C=1.0, class_weight=None, dual=False, fit_intercept=True,\n",
       "                   intercept_scaling=1, l1_ratio=None, max_iter=100,\n",
       "                   multi_class='auto', n_jobs=None, penalty='l2',\n",
       "                   random_state=None, solver='liblinear', tol=0.0001, verbose=0,\n",
       "                   warm_start=False)"
      ]
     },
     "execution_count": 123,
     "metadata": {
      "tags": []
     },
     "output_type": "execute_result"
    }
   ],
   "source": [
    "data = load_breast_cancer()\n",
    "X = data.data\n",
    "y = data.target\n",
    "\n",
    "lr = LogisticRegression(solver='liblinear')\n",
    "lr.fit(X, y)"
   ]
  },
  {
   "cell_type": "code",
   "execution_count": 119,
   "metadata": {
    "colab": {
     "base_uri": "https://localhost:8080/"
    },
    "executionInfo": {
     "elapsed": 652,
     "status": "ok",
     "timestamp": 1617342450689,
     "user": {
      "displayName": "­박민우 / 학생 / 컴퓨터공학부",
      "photoUrl": "",
      "userId": "03447469205339352309"
     },
     "user_tz": -540
    },
    "id": "vCUIDpsJ1ppN",
    "outputId": "f579637f-76ca-4cc4-85f7-79fcc1c45c30"
   },
   "outputs": [
    {
     "name": "stdout",
     "output_type": "stream",
     "text": [
      "0\n",
      "1\n"
     ]
    }
   ],
   "source": [
    "print(lr.predict(X)[10])\n",
    "print(lr.predict(X)[20])"
   ]
  },
  {
   "cell_type": "markdown",
   "metadata": {
    "id": "2MpdqitE1ppN"
   },
   "source": [
    "### Compute raw model output"
   ]
  },
  {
   "cell_type": "code",
   "execution_count": 120,
   "metadata": {
    "colab": {
     "base_uri": "https://localhost:8080/"
    },
    "executionInfo": {
     "elapsed": 559,
     "status": "ok",
     "timestamp": 1617342480833,
     "user": {
      "displayName": "­박민우 / 학생 / 컴퓨터공학부",
      "photoUrl": "",
      "userId": "03447469205339352309"
     },
     "user_tz": -540
    },
    "id": "vUfa9VyR1ppN",
    "outputId": "ae55bdd8-ccc1-4abb-a6b0-9e5ca6d9d255"
   },
   "outputs": [
    {
     "data": {
      "text/plain": [
       "array([-6.03940792])"
      ]
     },
     "execution_count": 120,
     "metadata": {
      "tags": []
     },
     "output_type": "execute_result"
    }
   ],
   "source": [
    "lr.coef_ @ X[10] + lr.intercept_"
   ]
  },
  {
   "cell_type": "code",
   "execution_count": 121,
   "metadata": {
    "colab": {
     "base_uri": "https://localhost:8080/"
    },
    "executionInfo": {
     "elapsed": 609,
     "status": "ok",
     "timestamp": 1617342482750,
     "user": {
      "displayName": "­박민우 / 학생 / 컴퓨터공학부",
      "photoUrl": "",
      "userId": "03447469205339352309"
     },
     "user_tz": -540
    },
    "id": "mq0tPJIS1ppN",
    "outputId": "ff2a11a4-aa11-48e0-df1f-1f9ee8e36f16",
    "scrolled": true
   },
   "outputs": [
    {
     "data": {
      "text/plain": [
       "array([5.20702942])"
      ]
     },
     "execution_count": 121,
     "metadata": {
      "tags": []
     },
     "output_type": "execute_result"
    }
   ],
   "source": [
    "lr.coef_ @ X[20] + lr.intercept_"
   ]
  },
  {
   "cell_type": "markdown",
   "metadata": {
    "id": "vePq0Gjd1ppO"
   },
   "source": [
    "#### How does regularization affect training accuracy?"
   ]
  },
  {
   "cell_type": "code",
   "execution_count": 124,
   "metadata": {
    "executionInfo": {
     "elapsed": 916,
     "status": "ok",
     "timestamp": 1617342602070,
     "user": {
      "displayName": "­박민우 / 학생 / 컴퓨터공학부",
      "photoUrl": "",
      "userId": "03447469205339352309"
     },
     "user_tz": -540
    },
    "id": "3Pv2o-g-1ppO"
   },
   "outputs": [],
   "source": [
    "from sklearn.model_selection import train_test_split\n",
    "X_train, X_test, y_train, y_test = train_test_split(X, y, test_size=0.3,random_state=17, stratify=y)"
   ]
  },
  {
   "cell_type": "code",
   "execution_count": 125,
   "metadata": {
    "executionInfo": {
     "elapsed": 723,
     "status": "ok",
     "timestamp": 1617342628888,
     "user": {
      "displayName": "­박민우 / 학생 / 컴퓨터공학부",
      "photoUrl": "",
      "userId": "03447469205339352309"
     },
     "user_tz": -540
    },
    "id": "gBlH_WzF1ppO"
   },
   "outputs": [],
   "source": [
    "lr_weak_reg = LogisticRegression(solver='liblinear', C=1000)\n",
    "lr_strong_reg = LogisticRegression(solver='liblinear', C=0.001)"
   ]
  },
  {
   "cell_type": "code",
   "execution_count": 126,
   "metadata": {
    "colab": {
     "base_uri": "https://localhost:8080/"
    },
    "executionInfo": {
     "elapsed": 674,
     "status": "ok",
     "timestamp": 1617342638084,
     "user": {
      "displayName": "­박민우 / 학생 / 컴퓨터공학부",
      "photoUrl": "",
      "userId": "03447469205339352309"
     },
     "user_tz": -540
    },
    "id": "qoo89qUp1ppO",
    "outputId": "deb30139-0f7a-46aa-f5f2-b419f975aae6"
   },
   "outputs": [
    {
     "name": "stdout",
     "output_type": "stream",
     "text": [
      "0.9723618090452262\n",
      "0.9296482412060302\n"
     ]
    }
   ],
   "source": [
    "lr_weak_reg.fit(X_train, y_train)\n",
    "lr_strong_reg.fit(X_train, y_train)\n",
    "\n",
    "print(lr_weak_reg.score(X_train, y_train))\n",
    "print(lr_strong_reg.score(X_train, y_train))"
   ]
  },
  {
   "cell_type": "markdown",
   "metadata": {
    "id": "c1lhePSM1ppO"
   },
   "source": [
    "#### How does regularization affect test accuracy?"
   ]
  },
  {
   "cell_type": "code",
   "execution_count": 127,
   "metadata": {
    "colab": {
     "base_uri": "https://localhost:8080/"
    },
    "executionInfo": {
     "elapsed": 640,
     "status": "ok",
     "timestamp": 1617342647948,
     "user": {
      "displayName": "­박민우 / 학생 / 컴퓨터공학부",
      "photoUrl": "",
      "userId": "03447469205339352309"
     },
     "user_tz": -540
    },
    "id": "lIxUuRVy1ppO",
    "outputId": "430c4460-1a3d-4c46-ca02-b71abb354457"
   },
   "outputs": [
    {
     "name": "stdout",
     "output_type": "stream",
     "text": [
      "0.9707602339181286\n",
      "0.9298245614035088\n"
     ]
    }
   ],
   "source": [
    "print(lr_weak_reg.score(X_test, y_test))\n",
    "print(lr_strong_reg.score(X_test, y_test))"
   ]
  },
  {
   "cell_type": "markdown",
   "metadata": {
    "id": "jmXwQ1fE1ppO"
   },
   "source": [
    "### Hyperparameter search"
   ]
  },
  {
   "cell_type": "code",
   "execution_count": 128,
   "metadata": {
    "colab": {
     "base_uri": "https://localhost:8080/"
    },
    "executionInfo": {
     "elapsed": 710,
     "status": "ok",
     "timestamp": 1617342800687,
     "user": {
      "displayName": "­박민우 / 학생 / 컴퓨터공학부",
      "photoUrl": "",
      "userId": "03447469205339352309"
     },
     "user_tz": -540
    },
    "id": "tBI5ZTqE1ppP",
    "outputId": "4b6a231b-f349-4e0f-a8f9-32663e1b6ef6",
    "scrolled": false
   },
   "outputs": [
    {
     "name": "stdout",
     "output_type": "stream",
     "text": [
      "Best CV params {'C': 10}\n"
     ]
    }
   ],
   "source": [
    "from sklearn.model_selection import GridSearchCV\n",
    "\n",
    "lr = LogisticRegression(solver='liblinear')    # penalty='l1'\n",
    "\n",
    "# run grid search\n",
    "searcher = GridSearchCV(lr, {'C':[0.001, 0.01, 0.1, 1, 10]}, cv=5)\n",
    "searcher.fit(X_train, y_train)\n",
    "\n",
    "# Report the best parameters\n",
    "print(\"Best CV params\", searcher.best_params_)\n",
    "\n",
    "# Find the number of nonzero coefficients (selected features)\n",
    "#best_lr = searcher.best_estimator_\n",
    "#coefs = best_lr.coef_\n",
    "#print(\"Total number of features:\", coefs.size)\n",
    "#print(\"Number of selected features:\", np.count_nonzero(coefs))"
   ]
  },
  {
   "cell_type": "markdown",
   "metadata": {
    "id": "KJqD9c--1ppP"
   },
   "source": [
    "# 3. Support Vector Machine"
   ]
  },
  {
   "cell_type": "markdown",
   "metadata": {
    "id": "BJjF6JWB1ppP"
   },
   "source": [
    "### Only support vectors matter"
   ]
  },
  {
   "cell_type": "code",
   "execution_count": 129,
   "metadata": {
    "colab": {
     "base_uri": "https://localhost:8080/"
    },
    "executionInfo": {
     "elapsed": 2981,
     "status": "ok",
     "timestamp": 1617344999241,
     "user": {
      "displayName": "­박민우 / 학생 / 컴퓨터공학부",
      "photoUrl": "",
      "userId": "03447469205339352309"
     },
     "user_tz": -540
    },
    "id": "CMhwR1Ha1ppP",
    "outputId": "7d45940f-628b-4857-c828-a1b6060657f8",
    "scrolled": true
   },
   "outputs": [
    {
     "data": {
      "text/plain": [
       "0.9532163742690059"
      ]
     },
     "execution_count": 129,
     "metadata": {
      "tags": []
     },
     "output_type": "execute_result"
    }
   ],
   "source": [
    "# Step0. Load data\n",
    "data = load_breast_cancer()\n",
    "X = data.data\n",
    "y = data.target\n",
    "\n",
    "# Step1. Train test split\n",
    "X_train, X_test, y_train, y_test = train_test_split(X, y, test_size=0.3,random_state=123, stratify=y)\n",
    "\n",
    "# Step2. Instantiate a model by specifying model hyperparameters\n",
    "from sklearn.svm import SVC\n",
    "svm = SVC(kernel=\"linear\")\n",
    "\n",
    "# Step3. Train / fit the model to the data\n",
    "svm.fit(X_train, y_train)\n",
    "\n",
    "# Step4. Score performance / Make prediction\n",
    "svm.score(X_test, y_test)"
   ]
  },
  {
   "cell_type": "code",
   "execution_count": 130,
   "metadata": {
    "colab": {
     "base_uri": "https://localhost:8080/"
    },
    "executionInfo": {
     "elapsed": 889,
     "status": "ok",
     "timestamp": 1617345074186,
     "user": {
      "displayName": "­박민우 / 학생 / 컴퓨터공학부",
      "photoUrl": "",
      "userId": "03447469205339352309"
     },
     "user_tz": -540
    },
    "id": "RAP6sbpM1ppP",
    "outputId": "326f37c7-a61f-43fe-dffa-cc4bae00ce92"
   },
   "outputs": [
    {
     "name": "stdout",
     "output_type": "stream",
     "text": [
      "Number of original examples 569\n",
      "Number of support vectors 43\n"
     ]
    },
    {
     "data": {
      "text/plain": [
       "SVC(C=1.0, break_ties=False, cache_size=200, class_weight=None, coef0=0.0,\n",
       "    decision_function_shape='ovr', degree=3, gamma='scale', kernel='linear',\n",
       "    max_iter=-1, probability=False, random_state=None, shrinking=True,\n",
       "    tol=0.001, verbose=False)"
      ]
     },
     "execution_count": 130,
     "metadata": {
      "tags": []
     },
     "output_type": "execute_result"
    }
   ],
   "source": [
    "# Make a new data set keeping only the support vectors\n",
    "print(\"Number of original examples\", len(X))\n",
    "print(\"Number of support vectors\", len(svm.support_))\n",
    "X_small = X_train[svm.support_]\n",
    "y_small = y_train[svm.support_]\n",
    "\n",
    "# Train a new SVM using only the support vectors\n",
    "svm_small = SVC(kernel=\"linear\")\n",
    "svm_small.fit(X_small, y_small)"
   ]
  },
  {
   "cell_type": "code",
   "execution_count": 131,
   "metadata": {
    "colab": {
     "base_uri": "https://localhost:8080/"
    },
    "executionInfo": {
     "elapsed": 394,
     "status": "ok",
     "timestamp": 1617345090373,
     "user": {
      "displayName": "­박민우 / 학생 / 컴퓨터공학부",
      "photoUrl": "",
      "userId": "03447469205339352309"
     },
     "user_tz": -540
    },
    "id": "cHQyRLyy1ppP",
    "outputId": "6b5719d2-2354-4a7f-fb62-4182a9973dbb"
   },
   "outputs": [
    {
     "data": {
      "text/plain": [
       "0.9532163742690059"
      ]
     },
     "execution_count": 131,
     "metadata": {
      "tags": []
     },
     "output_type": "execute_result"
    }
   ],
   "source": [
    "svm_small.score(X_test, y_test)"
   ]
  },
  {
   "cell_type": "markdown",
   "metadata": {
    "id": "vS1n9y3R1ppQ"
   },
   "source": [
    "### Kernel SVM"
   ]
  },
  {
   "cell_type": "code",
   "execution_count": 132,
   "metadata": {
    "colab": {
     "base_uri": "https://localhost:8080/"
    },
    "executionInfo": {
     "elapsed": 69433,
     "status": "ok",
     "timestamp": 1617345218443,
     "user": {
      "displayName": "­박민우 / 학생 / 컴퓨터공학부",
      "photoUrl": "",
      "userId": "03447469205339352309"
     },
     "user_tz": -540
    },
    "id": "eNWHmFQB1ppQ",
    "outputId": "092f094e-0004-4b85-9210-11e46d481f1c"
   },
   "outputs": [
    {
     "name": "stdout",
     "output_type": "stream",
     "text": [
      "Best CV params {'C': 10, 'gamma': 0.01, 'kernel': 'linear'}\n",
      "Best CV accuracy 0.9572784810126581\n",
      "Test accuracy of best grid search hypers: 0.9649122807017544\n"
     ]
    }
   ],
   "source": [
    "# Instantiate an RBF SVM\n",
    "svm = SVC()\n",
    "\n",
    "# Instantiate the GridSearchCV object and run the search\n",
    "parameters = {'C':[0.1, 10], 'gamma':[0.01, 0.1], 'kernel': ['linear', 'rbf']}\n",
    "searcher = GridSearchCV(svm, parameters)\n",
    "searcher.fit(X_train, y_train)\n",
    "\n",
    "# Report the best parameters and the corresponding score\n",
    "print(\"Best CV params\", searcher.best_params_)\n",
    "print(\"Best CV accuracy\", searcher.best_score_)\n",
    "\n",
    "# Report the test accuracy using these best parameters\n",
    "print(\"Test accuracy of best grid search hypers:\", searcher.score(X_test, y_test))"
   ]
  },
  {
   "cell_type": "markdown",
   "metadata": {
    "id": "ZOSz7yaC1ppQ"
   },
   "source": [
    "### Logistic Regression(Log loss) vs. SVM(Hinge loss)"
   ]
  },
  {
   "cell_type": "code",
   "execution_count": 133,
   "metadata": {
    "colab": {
     "base_uri": "https://localhost:8080/",
     "height": 282
    },
    "executionInfo": {
     "elapsed": 628,
     "status": "ok",
     "timestamp": 1617345286858,
     "user": {
      "displayName": "­박민우 / 학생 / 컴퓨터공학부",
      "photoUrl": "",
      "userId": "03447469205339352309"
     },
     "user_tz": -540
    },
    "id": "xdw8dTD31ppQ",
    "outputId": "17367839-b701-4aa1-9ee7-66e4a999319d"
   },
   "outputs": [
    {
     "data": {
      "text/plain": [
       "<matplotlib.legend.Legend at 0x7f95be8fddd0>"
      ]
     },
     "execution_count": 133,
     "metadata": {
      "tags": []
     },
     "output_type": "execute_result"
    },
    {
     "data": {
      "image/png": "[encoded data removed]",
      "text/plain": [
       "<Figure size 432x288 with 1 Axes>"
      ]
     },
     "metadata": {
      "needs_background": "light",
      "tags": []
     },
     "output_type": "display_data"
    }
   ],
   "source": [
    "# logistic and hinge losses\n",
    "def log_loss(raw_model_output):\n",
    "    return np.log(1+np.exp(-raw_model_output))\n",
    "def hinge_loss(raw_model_output):\n",
    "    return np.maximum(0,1-raw_model_output)\n",
    "\n",
    "# Create a grid of values and plot\n",
    "grid = np.linspace(-2,2,1000)\n",
    "plt.plot(grid, log_loss(grid), label='logistic')\n",
    "plt.plot(grid, hinge_loss(grid), label='hinge')\n",
    "plt.legend()"
   ]
  },
  {
   "cell_type": "code",
   "execution_count": 134,
   "metadata": {
    "colab": {
     "base_uri": "https://localhost:8080/"
    },
    "executionInfo": {
     "elapsed": 1480,
     "status": "ok",
     "timestamp": 1617345372612,
     "user": {
      "displayName": "­박민우 / 학생 / 컴퓨터공학부",
      "photoUrl": "",
      "userId": "03447469205339352309"
     },
     "user_tz": -540
    },
    "id": "OSuIXrHJ1ppQ",
    "outputId": "ac8ff3aa-53f3-43d6-f0aa-fe0559fbb75b"
   },
   "outputs": [
    {
     "name": "stdout",
     "output_type": "stream",
     "text": [
      "Best CV params {'alpha': 1e-05, 'loss': 'hinge', 'penalty': 'l1'}\n",
      "Best CV accuracy 0.9121794871794873\n",
      "Test accuracy of best grid search hypers: 0.9239766081871345\n"
     ]
    }
   ],
   "source": [
    "from sklearn.linear_model import SGDClassifier\n",
    "\n",
    "# We set random_state=0 for reproducibility \n",
    "linear_classifier = SGDClassifier(random_state=0)\n",
    "\n",
    "# Instantiate the GridSearchCV object and run the search\n",
    "parameters = {'alpha':[0.00001, 0.0001, 0.001, 0.01, 0.1, 1], \n",
    "             'loss':['hinge', 'log'], 'penalty':['l1', 'l2']}\n",
    "searcher = GridSearchCV(linear_classifier, parameters, cv=10)\n",
    "searcher.fit(X_train, y_train)\n",
    "\n",
    "# Report the best parameters and the corresponding score\n",
    "print(\"Best CV params\", searcher.best_params_)\n",
    "print(\"Best CV accuracy\", searcher.best_score_)\n",
    "print(\"Test accuracy of best grid search hypers:\", searcher.score(X_test, y_test))"
   ]
  },
  {
   "cell_type": "markdown",
   "metadata": {
    "id": "HzxfgS2G1ppR"
   },
   "source": [
    "# 4. Perceptron"
   ]
  },
  {
   "cell_type": "code",
   "execution_count": 135,
   "metadata": {
    "colab": {
     "base_uri": "https://localhost:8080/"
    },
    "executionInfo": {
     "elapsed": 633,
     "status": "ok",
     "timestamp": 1617347631459,
     "user": {
      "displayName": "­박민우 / 학생 / 컴퓨터공학부",
      "photoUrl": "",
      "userId": "03447469205339352309"
     },
     "user_tz": -540
    },
    "id": "7lqslGgo1ppR",
    "outputId": "1a05f4e6-058d-4440-e538-addf06a58577"
   },
   "outputs": [
    {
     "name": "stdout",
     "output_type": "stream",
     "text": [
      "[5 1]\n"
     ]
    }
   ],
   "source": [
    "input_data = np.array([2, 3])\n",
    "weights = {'node_0': np.array([1,1]),\n",
    "           'node_1': np.array([-1,1]),\n",
    "           'output': np.array([2,-1])}\n",
    "node_0_value = (input_data * weights['node_0']).sum()\n",
    "node_1_value = (input_data * weights['node_1']).sum()\n",
    "\n",
    "# Forward propagation\n",
    "hidden_layer_values = np.array([node_0_value, node_1_value])\n",
    "print(hidden_layer_values)"
   ]
  },
  {
   "cell_type": "code",
   "execution_count": 136,
   "metadata": {
    "colab": {
     "base_uri": "https://localhost:8080/"
    },
    "executionInfo": {
     "elapsed": 623,
     "status": "ok",
     "timestamp": 1617347651956,
     "user": {
      "displayName": "­박민우 / 학생 / 컴퓨터공학부",
      "photoUrl": "",
      "userId": "03447469205339352309"
     },
     "user_tz": -540
    },
    "id": "ePeVKG3y1ppR",
    "outputId": "7b7131ad-cc1c-46c7-fa2b-dd86ec56326e"
   },
   "outputs": [
    {
     "name": "stdout",
     "output_type": "stream",
     "text": [
      "9\n"
     ]
    }
   ],
   "source": [
    "output = (hidden_layer_values * weights['output']).sum()\n",
    "print(output)"
   ]
  },
  {
   "cell_type": "markdown",
   "metadata": {
    "id": "c7-Oz_-_1ppR"
   },
   "source": [
    "### Activation functions"
   ]
  },
  {
   "cell_type": "code",
   "execution_count": 137,
   "metadata": {
    "colab": {
     "base_uri": "https://localhost:8080/"
    },
    "executionInfo": {
     "elapsed": 588,
     "status": "ok",
     "timestamp": 1617347695716,
     "user": {
      "displayName": "­박민우 / 학생 / 컴퓨터공학부",
      "photoUrl": "",
      "userId": "03447469205339352309"
     },
     "user_tz": -540
    },
    "id": "bOfYmV_f1ppR",
    "outputId": "c4bdd152-dff0-4881-97b2-4ac7211ff40d",
    "scrolled": true
   },
   "outputs": [
    {
     "name": "stdout",
     "output_type": "stream",
     "text": [
      "9\n"
     ]
    }
   ],
   "source": [
    "#=== ReLU === #\n",
    "def relu(input):\n",
    "    # Calculate the value for the output of the relu function: output\n",
    "    output = max(input, 0)\n",
    "    \n",
    "    # Return the value just calculated\n",
    "    return(output)\n",
    "\n",
    "# Calculate node 0 value\n",
    "node_0_input = (input_data * weights['node_0']).sum()\n",
    "node_0_output = relu(node_0_input)\n",
    "\n",
    "# Calculate node 1 value\n",
    "node_1_input = (input_data * weights['node_1']).sum()\n",
    "node_1_output = relu(node_1_input)\n",
    "\n",
    "hidden_layer_outputs = np.array([node_0_output, node_1_output])\n",
    "\n",
    "# Calculate model output\n",
    "model_output = (hidden_layer_outputs * weights['output']).sum()\n",
    "print(model_output)"
   ]
  },
  {
   "cell_type": "markdown",
   "metadata": {
    "id": "v5yR1BQQ1ppS"
   },
   "source": [
    "### Feedforward Network"
   ]
  },
  {
   "cell_type": "code",
   "execution_count": 138,
   "metadata": {
    "colab": {
     "base_uri": "https://localhost:8080/"
    },
    "executionInfo": {
     "elapsed": 600,
     "status": "ok",
     "timestamp": 1617347722810,
     "user": {
      "displayName": "­박민우 / 학생 / 컴퓨터공학부",
      "photoUrl": "",
      "userId": "03447469205339352309"
     },
     "user_tz": -540
    },
    "id": "tFUXa5_a1ppS",
    "outputId": "cc4d7862-fb3b-4ab8-ee59-5ceec3e99b67",
    "scrolled": true
   },
   "outputs": [
    {
     "name": "stdout",
     "output_type": "stream",
     "text": [
      "[14, 0, 0, 24]\n"
     ]
    }
   ],
   "source": [
    "# Define predict_with_network()\n",
    "def predict_with_network(input_data_row, weights):\n",
    "\n",
    "    # Calculate node 0 value\n",
    "    node_0_input = (input_data_row * weights['node_0']).sum()\n",
    "    node_0_output = relu(node_0_input)\n",
    "\n",
    "    # Calculate node 1 value\n",
    "    node_1_input = (input_data_row * weights['node_1']).sum()\n",
    "    node_1_output = relu(node_1_input)\n",
    "\n",
    "    # Put node values into array: hidden_layer_outputs\n",
    "    hidden_layer_outputs = np.array([node_0_output, node_1_output])\n",
    "    \n",
    "    # Calculate model output\n",
    "    input_to_final_layer = (hidden_layer_outputs * weights['output']).sum()\n",
    "    model_output = relu(input_to_final_layer)\n",
    "    \n",
    "    # Return model output\n",
    "    return(model_output)\n",
    "\n",
    "input_data = [np.array([3,5]), np.array([1,-1]), np.array([0,0]), np.array([8,4])]\n",
    "weights = {'node_0': np.array([1,1]),\n",
    "           'node_1': np.array([-1,1]),\n",
    "           'output': np.array([2,-1])}\n",
    "\n",
    "# Create empty list to store prediction results\n",
    "results = []\n",
    "for input_data_row in input_data:\n",
    "    # Append prediction to results\n",
    "    results.append(predict_with_network(input_data_row, weights))\n",
    "\n",
    "# Print results\n",
    "print(results)"
   ]
  },
  {
   "cell_type": "markdown",
   "metadata": {
    "id": "cS6OXxnc1ppS"
   },
   "source": [
    "### MSE loss"
   ]
  },
  {
   "cell_type": "code",
   "execution_count": 139,
   "metadata": {
    "colab": {
     "base_uri": "https://localhost:8080/"
    },
    "executionInfo": {
     "elapsed": 534,
     "status": "ok",
     "timestamp": 1617347788119,
     "user": {
      "displayName": "­박민우 / 학생 / 컴퓨터공학부",
      "photoUrl": "",
      "userId": "03447469205339352309"
     },
     "user_tz": -540
    },
    "id": "8zt3XX0C1ppS",
    "outputId": "f12397d9-ee3d-46ca-fefe-ee16d20f304a"
   },
   "outputs": [
    {
     "name": "stdout",
     "output_type": "stream",
     "text": [
      "Mean squared error with weights_0: 37.500000\n",
      "Mean squared error with weights_1: 49.890625\n"
     ]
    }
   ],
   "source": [
    "from sklearn.metrics import mean_squared_error\n",
    "\n",
    "weights_0 = {'node_0': np.array([2, 1]), 'node_1': np.array([1, 2]), 'output': np.array([1, 1])}\n",
    "weights_1 = {'node_0': np.array([2, 1]), 'node_1': np.array([1. , 1.5]), 'output': np.array([1. , 1.5])}\n",
    "target_actuals = [1,3,5,7]\n",
    "input_data = [np.array([0, 3]), np.array([1, 2]), np.array([-1, -2]), np.array([4, 0])]\n",
    "\n",
    "# Create model_output_0 \n",
    "model_output_0 = []\n",
    "# Create model_output_1\n",
    "model_output_1 = []\n",
    "\n",
    "# Loop over input_data\n",
    "for row in input_data:\n",
    "    # Append prediction to model_output_0\n",
    "    model_output_0.append(predict_with_network(row, weights_0))\n",
    "    \n",
    "    # Append prediction to model_output_1\n",
    "    model_output_1.append(predict_with_network(row, weights_1))\n",
    "\n",
    "# Calculate the mean squared error for model_output_0: mse_0\n",
    "mse_0 = mean_squared_error(target_actuals, model_output_0)\n",
    "\n",
    "# Calculate the mean squared error for model_output_1: mse_1\n",
    "mse_1 = mean_squared_error(target_actuals, model_output_1)\n",
    "\n",
    "# Print mse_0 and mse_1\n",
    "print(\"Mean squared error with weights_0: %f\" %mse_0)\n",
    "print(\"Mean squared error with weights_1: %f\" %mse_1)\n"
   ]
  },
  {
   "cell_type": "markdown",
   "metadata": {
    "id": "QoT17WWS1ppS"
   },
   "source": [
    "### Update weights and improving loss"
   ]
  },
  {
   "cell_type": "markdown",
   "metadata": {
    "id": "XYdew1cA1ppS"
   },
   "source": [
    "#### Single data point example"
   ]
  },
  {
   "cell_type": "code",
   "execution_count": 140,
   "metadata": {
    "colab": {
     "base_uri": "https://localhost:8080/"
    },
    "executionInfo": {
     "elapsed": 843,
     "status": "ok",
     "timestamp": 1617347892648,
     "user": {
      "displayName": "­박민우 / 학생 / 컴퓨터공학부",
      "photoUrl": "",
      "userId": "03447469205339352309"
     },
     "user_tz": -540
    },
    "id": "eJVomZCl1ppT",
    "outputId": "3aa4e2b9-0ac0-4f8d-d5b0-592977a9441e"
   },
   "outputs": [
    {
     "name": "stdout",
     "output_type": "stream",
     "text": [
      "7\n",
      "5.04\n"
     ]
    }
   ],
   "source": [
    "weights = np.array([0, 2, 1])\n",
    "input_data = np.array([1, 2, 3])\n",
    "target = 0\n",
    "\n",
    "learning_rate = 0.01\n",
    "\n",
    "preds = (weights * input_data).sum()\n",
    "error = preds - target\n",
    "\n",
    "gradient = 2 * error * input_data / 1\n",
    "\n",
    "# Update the weights\n",
    "weights_updated = weights - learning_rate * gradient\n",
    "\n",
    "# Get updated predictions\n",
    "preds_updated = (weights_updated * input_data).sum()\n",
    "\n",
    "# Calculate updated error\n",
    "error_updated = preds_updated - target\n",
    "\n",
    "# Print the original error\n",
    "print(error)\n",
    "\n",
    "# Print the updated error\n",
    "print(error_updated)"
   ]
  },
  {
   "cell_type": "markdown",
   "metadata": {
    "id": "tZqYaz-g1ppT"
   },
   "source": [
    "### Deeper Network"
   ]
  },
  {
   "cell_type": "code",
   "execution_count": 141,
   "metadata": {
    "colab": {
     "base_uri": "https://localhost:8080/"
    },
    "executionInfo": {
     "elapsed": 566,
     "status": "ok",
     "timestamp": 1617347963145,
     "user": {
      "displayName": "­박민우 / 학생 / 컴퓨터공학부",
      "photoUrl": "",
      "userId": "03447469205339352309"
     },
     "user_tz": -540
    },
    "id": "mKhUBAyU1ppT",
    "outputId": "58f3df5d-b3c0-45f9-ed95-3e1123480820"
   },
   "outputs": [
    {
     "name": "stdout",
     "output_type": "stream",
     "text": [
      "182\n"
     ]
    }
   ],
   "source": [
    "def predict_with_network(input_data):\n",
    "    # Calculate node 0 in the first hidden layer\n",
    "    node_0_0_input = (input_data * weights['node_0_0']).sum()\n",
    "    node_0_0_output = relu(node_0_0_input)\n",
    "\n",
    "    # Calculate node 1 in the first hidden layer\n",
    "    node_0_1_input = (input_data * weights['node_0_1']).sum()\n",
    "    node_0_1_output = relu(node_0_1_input)\n",
    "\n",
    "    # Put node values into array: hidden_0_outputs\n",
    "    hidden_0_outputs = np.array([node_0_0_output, node_0_1_output])\n",
    "    \n",
    "    # Calculate node 0 in the second hidden layer\n",
    "    node_1_0_input = (hidden_0_outputs * weights['node_1_0']).sum()\n",
    "    node_1_0_output = relu(node_1_0_input)\n",
    "\n",
    "    # Calculate node 1 in the second hidden layer\n",
    "    node_1_1_input = (hidden_0_outputs * weights['node_1_1']).sum()\n",
    "    node_1_1_output = relu(node_1_1_input)\n",
    "\n",
    "    # Put node values into array: hidden_1_outputs\n",
    "    hidden_1_outputs = np.array([node_1_0_output, node_1_1_output])\n",
    "\n",
    "    # Calculate model output: model_output\n",
    "    model_output = (hidden_1_outputs * weights['output']).sum()\n",
    "    \n",
    "    # Return model_output\n",
    "    return(model_output)\n",
    "\n",
    "weights = {'node_0_0': np.array([2, 4]),\n",
    " 'node_0_1': np.array([ 4, -5]),\n",
    " 'node_1_0': np.array([-1,  2]),\n",
    " 'node_1_1': np.array([1, 2]),\n",
    " 'output': np.array([2, 7])}\n",
    "input_data = np.array([3,5])\n",
    "\n",
    "output = predict_with_network(input_data)\n",
    "print(output)\n"
   ]
  },
  {
   "cell_type": "markdown",
   "metadata": {
    "id": "xKmJWx-D1ppT"
   },
   "source": [
    "### Gradient descent"
   ]
  },
  {
   "cell_type": "code",
   "execution_count": 142,
   "metadata": {
    "executionInfo": {
     "elapsed": 665,
     "status": "ok",
     "timestamp": 1617348052583,
     "user": {
      "displayName": "­박민우 / 학생 / 컴퓨터공학부",
      "photoUrl": "",
      "userId": "03447469205339352309"
     },
     "user_tz": -540
    },
    "id": "tDvQjhsT1ppT"
   },
   "outputs": [],
   "source": [
    "def get_mse(input_data, target, weights):\n",
    "    preds = (weights * input_data).sum()\n",
    "    error = np.mean((preds - target)**2)\n",
    "    mse = error\n",
    "    return mse\n",
    "\n",
    "def get_slope(input_data, target, weights):\n",
    "    preds = (weights * input_data).sum()\n",
    "    error = preds - target\n",
    "    mse = error\n",
    "    slope = 2 * mse * input_data\n",
    "    return slope"
   ]
  },
  {
   "cell_type": "code",
   "execution_count": 143,
   "metadata": {
    "colab": {
     "base_uri": "https://localhost:8080/",
     "height": 279
    },
    "executionInfo": {
     "elapsed": 719,
     "status": "ok",
     "timestamp": 1617348078055,
     "user": {
      "displayName": "­박민우 / 학생 / 컴퓨터공학부",
      "photoUrl": "",
      "userId": "03447469205339352309"
     },
     "user_tz": -540
    },
    "id": "YiKt63Ab1ppU",
    "outputId": "3c59e2fc-2984-4373-e3ab-4fffe64e5a9e",
    "scrolled": true
   },
   "outputs": [
    {
     "data": {
      "image/png": "[encoded data removed]",
      "text/plain": [
       "<Figure size 432x288 with 1 Axes>"
      ]
     },
     "metadata": {
      "needs_background": "light",
      "tags": []
     },
     "output_type": "display_data"
    }
   ],
   "source": [
    "input_data = np.array([1,2,3])\n",
    "weights = np.array([0,2,1])\n",
    "target=0\n",
    "\n",
    "n_updates = 20\n",
    "mse_hist = []\n",
    "\n",
    "# Iterate over the number of updates\n",
    "for i in range(n_updates):\n",
    "    # Calculate the slope: slope\n",
    "    slope = get_slope(input_data, target, weights)\n",
    "    \n",
    "    # Update the weights: weights\n",
    "    weights = weights - 0.01 * slope\n",
    "    \n",
    "    # Calculate mse with new weights: mse\n",
    "    mse = get_mse(input_data, target, weights)\n",
    "    \n",
    "    # Append the mse to mse_hist\n",
    "    mse_hist.append(mse)\n",
    "\n",
    "# Plot the mse history\n",
    "plt.plot(mse_hist)\n",
    "plt.xlabel('Iterations')\n",
    "plt.ylabel('Mean Squared Error')\n",
    "plt.show()"
   ]
  },
  {
   "cell_type": "markdown",
   "metadata": {
    "id": "7DZkl7VX1ppU"
   },
   "source": [
    "## Keras"
   ]
  },
  {
   "cell_type": "code",
   "execution_count": 144,
   "metadata": {
    "executionInfo": {
     "elapsed": 958,
     "status": "ok",
     "timestamp": 1617348395575,
     "user": {
      "displayName": "­박민우 / 학생 / 컴퓨터공학부",
      "photoUrl": "",
      "userId": "03447469205339352309"
     },
     "user_tz": -540
    },
    "id": "oFRsTPQl1ppU"
   },
   "outputs": [],
   "source": [
    "# Import necessary modules\n",
    "import keras\n",
    "from keras.layers import Dense\n",
    "from keras.models import Sequential\n",
    "from keras.utils import to_categorical\n",
    "\n",
    "data = load_breast_cancer()\n",
    "predictors = np.array(data.data, dtype='float64')\n",
    "# Convert the target to categorical: target (One-hot encoding)\n",
    "target = to_categorical(np.array(data.target, dtype='float64'))\n",
    "\n",
    "# Save the number of columns in predictors: n_cols\n",
    "n_cols = predictors.shape[1]\n",
    "\n",
    "# Set up the model: model\n",
    "model = Sequential()\n",
    "\n",
    "# Add the first layer\n",
    "model.add(Dense(32, activation='relu', input_shape=(n_cols,)))\n",
    "\n",
    "# Add the second layer\n",
    "model.add(Dense(32, activation='relu'))\n",
    "\n",
    "# Add the output layer\n",
    "model.add(Dense(2, activation='softmax'))"
   ]
  },
  {
   "cell_type": "code",
   "execution_count": 145,
   "metadata": {
    "colab": {
     "base_uri": "https://localhost:8080/"
    },
    "executionInfo": {
     "elapsed": 1045,
     "status": "ok",
     "timestamp": 1617348432367,
     "user": {
      "displayName": "­박민우 / 학생 / 컴퓨터공학부",
      "photoUrl": "",
      "userId": "03447469205339352309"
     },
     "user_tz": -540
    },
    "id": "ejc6CbIF1ppU",
    "outputId": "74eb5755-c322-4050-8486-1ea0801bc14a"
   },
   "outputs": [
    {
     "name": "stdout",
     "output_type": "stream",
     "text": [
      "18/18 [==============================] - 0s 1ms/step - loss: 4.9939 - accuracy: 0.5636\n"
     ]
    },
    {
     "data": {
      "text/plain": [
       "<tensorflow.python.keras.callbacks.History at 0x7f95be7c6c90>"
      ]
     },
     "execution_count": 145,
     "metadata": {
      "tags": []
     },
     "output_type": "execute_result"
    }
   ],
   "source": [
    "model.compile(optimizer='adam', loss='categorical_crossentropy', metrics=['accuracy'])\n",
    "\n",
    "model.fit(predictors, target)"
   ]
  },
  {
   "cell_type": "code",
   "execution_count": 146,
   "metadata": {
    "colab": {
     "base_uri": "https://localhost:8080/"
    },
    "executionInfo": {
     "elapsed": 631,
     "status": "ok",
     "timestamp": 1617348435375,
     "user": {
      "displayName": "­박민우 / 학생 / 컴퓨터공학부",
      "photoUrl": "",
      "userId": "03447469205339352309"
     },
     "user_tz": -540
    },
    "id": "uurij7vN7e6v",
    "outputId": "607bddbd-d42d-4370-f52b-6eaae507a6d7"
   },
   "outputs": [
    {
     "name": "stdout",
     "output_type": "stream",
     "text": [
      "Model: \"sequential_5\"\n",
      "_________________________________________________________________\n",
      "Layer (type)                 Output Shape              Param #   \n",
      "=================================================================\n",
      "dense_15 (Dense)             (None, 32)                992       \n",
      "_________________________________________________________________\n",
      "dense_16 (Dense)             (None, 32)                1056      \n",
      "_________________________________________________________________\n",
      "dense_17 (Dense)             (None, 2)                 66        \n",
      "=================================================================\n",
      "Total params: 2,114\n",
      "Trainable params: 2,114\n",
      "Non-trainable params: 0\n",
      "_________________________________________________________________\n"
     ]
    }
   ],
   "source": [
    "model.summary()"
   ]
  },
  {
   "cell_type": "markdown",
   "metadata": {
    "id": "a0jLwjYv73Ux"
   },
   "source": [
    "### Validation"
   ]
  },
  {
   "cell_type": "code",
   "execution_count": 147,
   "metadata": {
    "executionInfo": {
     "elapsed": 704,
     "status": "ok",
     "timestamp": 1617348510862,
     "user": {
      "displayName": "­박민우 / 학생 / 컴퓨터공학부",
      "photoUrl": "",
      "userId": "03447469205339352309"
     },
     "user_tz": -540
    },
    "id": "GZh2F9NN1ppU"
   },
   "outputs": [],
   "source": [
    "# Import necessary modules\n",
    "import keras\n",
    "from keras.layers import Dense\n",
    "from keras.models import Sequential\n",
    "from keras.utils import to_categorical\n",
    "\n",
    "data = load_breast_cancer()\n",
    "predictors = np.array(data.data, dtype='float64')\n",
    "# Convert the target to categorical: target (One-hot encoding)\n",
    "target = to_categorical(np.array(data.target, dtype='float64'))\n",
    "\n",
    "# Save the number of columns in predictors: n_cols\n",
    "n_cols = predictors.shape[1]\n",
    "\n",
    "# Set up the model: model\n",
    "model = Sequential()\n",
    "\n",
    "# Add the first layer\n",
    "model.add(Dense(32, activation='relu', input_shape=(n_cols,)))\n",
    "\n",
    "# Add the second layer\n",
    "model.add(Dense(32, activation='relu'))\n",
    "\n",
    "# Add the output layer\n",
    "model.add(Dense(2, activation='softmax'))"
   ]
  },
  {
   "cell_type": "code",
   "execution_count": 148,
   "metadata": {
    "colab": {
     "base_uri": "https://localhost:8080/"
    },
    "executionInfo": {
     "elapsed": 2388,
     "status": "ok",
     "timestamp": 1617348535828,
     "user": {
      "displayName": "­박민우 / 학생 / 컴퓨터공학부",
      "photoUrl": "",
      "userId": "03447469205339352309"
     },
     "user_tz": -540
    },
    "id": "W16Jspbr8EMb",
    "outputId": "ab65272d-8a88-4017-f264-c0e67b621c25"
   },
   "outputs": [
    {
     "name": "stdout",
     "output_type": "stream",
     "text": [
      "Epoch 1/20\n",
      "15/15 [==============================] - 1s 15ms/step - loss: 57.6418 - accuracy: 0.3895 - val_loss: 7.0208 - val_accuracy: 0.7456\n",
      "Epoch 2/20\n",
      "15/15 [==============================] - 0s 4ms/step - loss: 9.7084 - accuracy: 0.5233 - val_loss: 2.4363 - val_accuracy: 0.7719\n",
      "Epoch 3/20\n",
      "15/15 [==============================] - 0s 4ms/step - loss: 4.4154 - accuracy: 0.6306 - val_loss: 2.9303 - val_accuracy: 0.6842\n",
      "Epoch 4/20\n",
      "15/15 [==============================] - 0s 4ms/step - loss: 3.1018 - accuracy: 0.6779 - val_loss: 2.4421 - val_accuracy: 0.7368\n",
      "Epoch 5/20\n",
      "15/15 [==============================] - 0s 4ms/step - loss: 2.4126 - accuracy: 0.7151 - val_loss: 0.9676 - val_accuracy: 0.8860\n",
      "Epoch 6/20\n",
      "15/15 [==============================] - 0s 4ms/step - loss: 1.2577 - accuracy: 0.8391 - val_loss: 0.9420 - val_accuracy: 0.8772\n",
      "Epoch 7/20\n",
      "15/15 [==============================] - 0s 4ms/step - loss: 0.8989 - accuracy: 0.8710 - val_loss: 0.9297 - val_accuracy: 0.9035\n",
      "Epoch 8/20\n",
      "15/15 [==============================] - 0s 5ms/step - loss: 1.0982 - accuracy: 0.8733 - val_loss: 0.8760 - val_accuracy: 0.8684\n",
      "Epoch 9/20\n",
      "15/15 [==============================] - 0s 4ms/step - loss: 0.9408 - accuracy: 0.8672 - val_loss: 0.8685 - val_accuracy: 0.9035\n",
      "Epoch 10/20\n",
      "15/15 [==============================] - 0s 4ms/step - loss: 1.0636 - accuracy: 0.8772 - val_loss: 0.7600 - val_accuracy: 0.9035\n",
      "Epoch 11/20\n",
      "15/15 [==============================] - 0s 4ms/step - loss: 0.8072 - accuracy: 0.8821 - val_loss: 0.8271 - val_accuracy: 0.8860\n",
      "Epoch 12/20\n",
      "15/15 [==============================] - 0s 4ms/step - loss: 0.7657 - accuracy: 0.8827 - val_loss: 1.1014 - val_accuracy: 0.8772\n",
      "Epoch 13/20\n",
      "15/15 [==============================] - 0s 4ms/step - loss: 0.7919 - accuracy: 0.8709 - val_loss: 1.2438 - val_accuracy: 0.8158\n",
      "Epoch 14/20\n",
      "15/15 [==============================] - 0s 5ms/step - loss: 0.4543 - accuracy: 0.8865 - val_loss: 0.6197 - val_accuracy: 0.8860\n",
      "Epoch 15/20\n",
      "15/15 [==============================] - 0s 4ms/step - loss: 0.6548 - accuracy: 0.8857 - val_loss: 0.6188 - val_accuracy: 0.8860\n",
      "Epoch 16/20\n",
      "15/15 [==============================] - 0s 4ms/step - loss: 0.4107 - accuracy: 0.9102 - val_loss: 0.6602 - val_accuracy: 0.8596\n",
      "Epoch 17/20\n",
      "15/15 [==============================] - 0s 5ms/step - loss: 0.4088 - accuracy: 0.9051 - val_loss: 0.5498 - val_accuracy: 0.8947\n",
      "Epoch 18/20\n",
      "15/15 [==============================] - 0s 5ms/step - loss: 0.4805 - accuracy: 0.8967 - val_loss: 0.7759 - val_accuracy: 0.8596\n",
      "Epoch 19/20\n",
      "15/15 [==============================] - 0s 5ms/step - loss: 0.5303 - accuracy: 0.8659 - val_loss: 0.5086 - val_accuracy: 0.8947\n",
      "Epoch 20/20\n",
      "15/15 [==============================] - 0s 5ms/step - loss: 0.3644 - accuracy: 0.9134 - val_loss: 0.4830 - val_accuracy: 0.8947\n"
     ]
    },
    {
     "data": {
      "text/plain": [
       "<tensorflow.python.keras.callbacks.History at 0x7f95be6ed210>"
      ]
     },
     "execution_count": 148,
     "metadata": {
      "tags": []
     },
     "output_type": "execute_result"
    }
   ],
   "source": [
    "model.compile(optimizer='adam', loss='categorical_crossentropy', metrics=['accuracy'])\n",
    "model.fit(predictors, target, epochs=20, validation_split=0.2)"
   ]
  },
  {
   "cell_type": "markdown",
   "metadata": {
    "id": "wzvSlgak9EWO"
   },
   "source": [
    "### Prediction & Optimizer selection"
   ]
  },
  {
   "cell_type": "code",
   "execution_count": 149,
   "metadata": {
    "executionInfo": {
     "elapsed": 801,
     "status": "ok",
     "timestamp": 1617348627782,
     "user": {
      "displayName": "­박민우 / 학생 / 컴퓨터공학부",
      "photoUrl": "",
      "userId": "03447469205339352309"
     },
     "user_tz": -540
    },
    "id": "TerWJ5kb9DrG"
   },
   "outputs": [],
   "source": [
    "data = load_breast_cancer()\n",
    "predictors = np.array(data.data, dtype='float64')\n",
    "# Convert the target to categorical: target (One-hot encoding)\n",
    "target = to_categorical(np.array(data.target, dtype='float64'))\n",
    "\n",
    "X_train, X_test, y_train, y_test = train_test_split(predictors, target, test_size=0.3,random_state=123, stratify=y)"
   ]
  },
  {
   "cell_type": "code",
   "execution_count": 150,
   "metadata": {
    "executionInfo": {
     "elapsed": 760,
     "status": "ok",
     "timestamp": 1617348632554,
     "user": {
      "displayName": "­박민우 / 학생 / 컴퓨터공학부",
      "photoUrl": "",
      "userId": "03447469205339352309"
     },
     "user_tz": -540
    },
    "id": "2ozDrBUr9Lbk"
   },
   "outputs": [],
   "source": [
    "# Save the number of columns in predictors: n_cols\n",
    "n_cols = predictors.shape[1]\n",
    "\n",
    "# Set up the model: model\n",
    "model = Sequential()\n",
    "\n",
    "# Add the first layer\n",
    "model.add(Dense(32, activation='relu', input_shape=(n_cols,)))\n",
    "\n",
    "# Add the second layer\n",
    "model.add(Dense(32, activation='relu'))\n",
    "\n",
    "# Add the output layer\n",
    "model.add(Dense(2, activation='softmax'))"
   ]
  },
  {
   "cell_type": "code",
   "execution_count": 151,
   "metadata": {
    "colab": {
     "base_uri": "https://localhost:8080/"
    },
    "executionInfo": {
     "elapsed": 2454,
     "status": "ok",
     "timestamp": 1617348675961,
     "user": {
      "displayName": "­박민우 / 학생 / 컴퓨터공학부",
      "photoUrl": "",
      "userId": "03447469205339352309"
     },
     "user_tz": -540
    },
    "id": "ErB3kwa-9OFJ",
    "outputId": "a7673bf1-d3c7-4a9b-d0f2-3a3f845de4af"
   },
   "outputs": [
    {
     "name": "stdout",
     "output_type": "stream",
     "text": [
      "Epoch 1/20\n",
      "10/10 [==============================] - 1s 23ms/step - loss: 74.2990 - accuracy: 0.4903 - val_loss: 6.3535 - val_accuracy: 0.3000\n",
      "Epoch 2/20\n",
      "10/10 [==============================] - 0s 6ms/step - loss: 3.2491 - accuracy: 0.4695 - val_loss: 0.5152 - val_accuracy: 0.7875\n",
      "Epoch 3/20\n",
      "10/10 [==============================] - 0s 6ms/step - loss: 0.8119 - accuracy: 0.6368 - val_loss: 0.5103 - val_accuracy: 0.7125\n",
      "Epoch 4/20\n",
      "10/10 [==============================] - 0s 7ms/step - loss: 0.4230 - accuracy: 0.8595 - val_loss: 0.3981 - val_accuracy: 0.8000\n",
      "Epoch 5/20\n",
      "10/10 [==============================] - 0s 6ms/step - loss: 0.6393 - accuracy: 0.7088 - val_loss: 0.2631 - val_accuracy: 0.9375\n",
      "Epoch 6/20\n",
      "10/10 [==============================] - 0s 7ms/step - loss: 0.6073 - accuracy: 0.7656 - val_loss: 0.4059 - val_accuracy: 0.7875\n",
      "Epoch 7/20\n",
      "10/10 [==============================] - 0s 6ms/step - loss: 0.8923 - accuracy: 0.5862 - val_loss: 0.4405 - val_accuracy: 0.8250\n",
      "Epoch 8/20\n",
      "10/10 [==============================] - 0s 6ms/step - loss: 0.3710 - accuracy: 0.8458 - val_loss: 0.2110 - val_accuracy: 0.9750\n",
      "Epoch 9/20\n",
      "10/10 [==============================] - 0s 7ms/step - loss: 0.3348 - accuracy: 0.8657 - val_loss: 0.8843 - val_accuracy: 0.4375\n",
      "Epoch 10/20\n",
      "10/10 [==============================] - 0s 6ms/step - loss: 0.8174 - accuracy: 0.5734 - val_loss: 0.8619 - val_accuracy: 0.3875\n",
      "Epoch 11/20\n",
      "10/10 [==============================] - 0s 6ms/step - loss: 0.5146 - accuracy: 0.7336 - val_loss: 0.2969 - val_accuracy: 0.9375\n",
      "Epoch 12/20\n",
      "10/10 [==============================] - 0s 6ms/step - loss: 0.4737 - accuracy: 0.8284 - val_loss: 0.2762 - val_accuracy: 0.9500\n",
      "Epoch 13/20\n",
      "10/10 [==============================] - 0s 6ms/step - loss: 0.2953 - accuracy: 0.9034 - val_loss: 0.2899 - val_accuracy: 0.9250\n",
      "Epoch 14/20\n",
      "10/10 [==============================] - 0s 6ms/step - loss: 0.2943 - accuracy: 0.8965 - val_loss: 0.3301 - val_accuracy: 0.9000\n",
      "Epoch 15/20\n",
      "10/10 [==============================] - 0s 6ms/step - loss: 0.3236 - accuracy: 0.8980 - val_loss: 0.2680 - val_accuracy: 0.9375\n",
      "Epoch 16/20\n",
      "10/10 [==============================] - 0s 7ms/step - loss: 0.2734 - accuracy: 0.8887 - val_loss: 0.3079 - val_accuracy: 0.9250\n",
      "Epoch 17/20\n",
      "10/10 [==============================] - 0s 7ms/step - loss: 0.2928 - accuracy: 0.8810 - val_loss: 0.3210 - val_accuracy: 0.9125\n",
      "Epoch 18/20\n",
      "10/10 [==============================] - 0s 6ms/step - loss: 0.3030 - accuracy: 0.8892 - val_loss: 0.3220 - val_accuracy: 0.9375\n",
      "Epoch 19/20\n",
      "10/10 [==============================] - 0s 7ms/step - loss: 0.3697 - accuracy: 0.8577 - val_loss: 0.2985 - val_accuracy: 0.9375\n",
      "Epoch 20/20\n",
      "10/10 [==============================] - 0s 7ms/step - loss: 0.3018 - accuracy: 0.8851 - val_loss: 0.3569 - val_accuracy: 0.9125\n"
     ]
    },
    {
     "data": {
      "text/plain": [
       "<tensorflow.python.keras.callbacks.History at 0x7f95bdd05a90>"
      ]
     },
     "execution_count": 151,
     "metadata": {
      "tags": []
     },
     "output_type": "execute_result"
    }
   ],
   "source": [
    "from keras.optimizers import SGD\n",
    "\n",
    "optim = SGD(lr=0.001)\n",
    "model.compile(optimizer=optim, loss='categorical_crossentropy', metrics=['accuracy'])\n",
    "model.fit(X_train, y_train, epochs=20, validation_split=0.2)"
   ]
  },
  {
   "cell_type": "code",
   "execution_count": 152,
   "metadata": {
    "colab": {
     "base_uri": "https://localhost:8080/"
    },
    "executionInfo": {
     "elapsed": 643,
     "status": "ok",
     "timestamp": 1617348711812,
     "user": {
      "displayName": "­박민우 / 학생 / 컴퓨터공학부",
      "photoUrl": "",
      "userId": "03447469205339352309"
     },
     "user_tz": -540
    },
    "id": "NHBhZNbb9zS5",
    "outputId": "783bf5ee-b6ee-402d-8abd-46a9ce543bf1"
   },
   "outputs": [
    {
     "name": "stdout",
     "output_type": "stream",
     "text": [
      "[0.07084129 0.9291587 ] [0. 1.]\n"
     ]
    }
   ],
   "source": [
    "# Calculate predictions: predictions\n",
    "predictions = model.predict(X_test)\n",
    "\n",
    "# print predicted_prob_true\n",
    "print(predictions[0], y_test[0])"
   ]
  },
  {
   "cell_type": "markdown",
   "metadata": {
    "id": "amY3UVal-0Al"
   },
   "source": [
    "### Early Stopping"
   ]
  },
  {
   "cell_type": "code",
   "execution_count": 153,
   "metadata": {
    "executionInfo": {
     "elapsed": 765,
     "status": "ok",
     "timestamp": 1617348778452,
     "user": {
      "displayName": "­박민우 / 학생 / 컴퓨터공학부",
      "photoUrl": "",
      "userId": "03447469205339352309"
     },
     "user_tz": -540
    },
    "id": "DC2Clpqu-zyG"
   },
   "outputs": [],
   "source": [
    "data = load_breast_cancer()\n",
    "predictors = np.array(data.data, dtype='float64')\n",
    "# Convert the target to categorical: target (One-hot encoding)\n",
    "target = to_categorical(np.array(data.target, dtype='float64'))\n",
    "\n",
    "X_train, X_test, y_train, y_test = train_test_split(predictors, target, test_size=0.3,random_state=123, stratify=y)\n",
    "\n",
    "# Save the number of columns in predictors: n_cols\n",
    "n_cols = predictors.shape[1]\n",
    "\n",
    "# Set up the model: model\n",
    "model = Sequential()\n",
    "\n",
    "# Add the first layer\n",
    "model.add(Dense(32, activation='relu', input_shape=(n_cols,)))\n",
    "\n",
    "# Add the second layer\n",
    "model.add(Dense(32, activation='relu'))\n",
    "\n",
    "# Add the output layer\n",
    "model.add(Dense(2, activation='softmax'))"
   ]
  },
  {
   "cell_type": "code",
   "execution_count": 156,
   "metadata": {
    "colab": {
     "base_uri": "https://localhost:8080/"
    },
    "executionInfo": {
     "elapsed": 1580,
     "status": "ok",
     "timestamp": 1617348869774,
     "user": {
      "displayName": "­박민우 / 학생 / 컴퓨터공학부",
      "photoUrl": "",
      "userId": "03447469205339352309"
     },
     "user_tz": -540
    },
    "id": "IIHg2iWi--u2",
    "outputId": "b64ba8c4-dbc6-47f0-e81f-5c81f5342c45"
   },
   "outputs": [
    {
     "name": "stdout",
     "output_type": "stream",
     "text": [
      "Epoch 1/1000\n",
      "10/10 [==============================] - 1s 23ms/step - loss: 1.3716 - accuracy: 0.7773 - val_loss: 1.8402 - val_accuracy: 0.5875\n",
      "Epoch 2/1000\n",
      "10/10 [==============================] - 0s 7ms/step - loss: 1.2001 - accuracy: 0.7700 - val_loss: 0.5923 - val_accuracy: 0.9375\n",
      "Epoch 3/1000\n",
      "10/10 [==============================] - 0s 6ms/step - loss: 0.4913 - accuracy: 0.8756 - val_loss: 0.7060 - val_accuracy: 0.9500\n",
      "Epoch 4/1000\n",
      "10/10 [==============================] - 0s 7ms/step - loss: 0.5571 - accuracy: 0.8813 - val_loss: 0.4972 - val_accuracy: 0.9375\n",
      "Epoch 5/1000\n",
      "10/10 [==============================] - 0s 7ms/step - loss: 0.3212 - accuracy: 0.9051 - val_loss: 0.5805 - val_accuracy: 0.9500\n",
      "Epoch 6/1000\n",
      "10/10 [==============================] - 0s 7ms/step - loss: 0.5022 - accuracy: 0.8668 - val_loss: 0.6394 - val_accuracy: 0.7875\n"
     ]
    },
    {
     "data": {
      "text/plain": [
       "<tensorflow.python.keras.callbacks.History at 0x7f95b90fe550>"
      ]
     },
     "execution_count": 156,
     "metadata": {
      "tags": []
     },
     "output_type": "execute_result"
    }
   ],
   "source": [
    "# Compile the model\n",
    "model.compile(optimizer='adam', loss='categorical_crossentropy', metrics=['accuracy'])\n",
    "\n",
    "# Define early_stopping_monitor\n",
    "from keras.callbacks import EarlyStopping\n",
    "early_stopping_monitor = EarlyStopping(patience=2)\n",
    "\n",
    "# Fit the model\n",
    "model.fit(X_train, y_train, epochs=1000, validation_split=0.2, callbacks=[early_stopping_monitor])"
   ]
  },
  {
   "cell_type": "markdown",
   "metadata": {
    "id": "UGfToIkO_aTx"
   },
   "source": [
    "### Comparing Models"
   ]
  },
  {
   "cell_type": "code",
   "execution_count": 157,
   "metadata": {
    "colab": {
     "base_uri": "https://localhost:8080/",
     "height": 279
    },
    "executionInfo": {
     "elapsed": 2402,
     "status": "ok",
     "timestamp": 1617348946394,
     "user": {
      "displayName": "­박민우 / 학생 / 컴퓨터공학부",
      "photoUrl": "",
      "userId": "03447469205339352309"
     },
     "user_tz": -540
    },
    "id": "rAOXOqmv_YpZ",
    "outputId": "76b4b2d9-f1a0-4cff-dcf1-2401991c7483"
   },
   "outputs": [
    {
     "data": {
      "image/png": "[encoded data removed]",
      "text/plain": [
       "<Figure size 432x288 with 1 Axes>"
      ]
     },
     "metadata": {
      "needs_background": "light",
      "tags": []
     },
     "output_type": "display_data"
    }
   ],
   "source": [
    "# Define early_stopping_monitor\n",
    "early_stopping_monitor = EarlyStopping(patience=2)\n",
    "\n",
    "# Create the new model: model_2\n",
    "model_2 = Sequential()\n",
    "\n",
    "# Add the first and second layers\n",
    "model_2.add(Dense(100, activation='relu', input_shape=(n_cols,)))\n",
    "model_2.add(Dense(100, activation='relu'))\n",
    "\n",
    "# Add the output layer\n",
    "model_2.add(Dense(2, activation='softmax'))\n",
    "\n",
    "# Compile model_2\n",
    "model_2.compile(optimizer='adam', loss='categorical_crossentropy', metrics=['accuracy'])\n",
    "\n",
    "# Fit model_1\n",
    "model_1_training = model.fit(predictors, target, epochs=15, validation_split=0.2, callbacks=[early_stopping_monitor], verbose=False)\n",
    "\n",
    "# Fit model_2\n",
    "model_2_training = model_2.fit(predictors, target, epochs=15, validation_split=0.2, callbacks=[early_stopping_monitor], verbose=False)\n",
    "\n",
    "# Create the plot\n",
    "plt.plot(model_1_training.history['val_loss'], 'r', model_2_training.history['val_loss'], 'b')\n",
    "plt.xlabel('Epochs')\n",
    "plt.ylabel('Validation score')\n",
    "plt.show()\n"
   ]
  },
  {
   "cell_type": "code",
   "execution_count": 158,
   "metadata": {
    "colab": {
     "base_uri": "https://localhost:8080/"
    },
    "executionInfo": {
     "elapsed": 612,
     "status": "ok",
     "timestamp": 1617348977194,
     "user": {
      "displayName": "­박민우 / 학생 / 컴퓨터공학부",
      "photoUrl": "",
      "userId": "03447469205339352309"
     },
     "user_tz": -540
    },
    "id": "4CqvCb3R_-Od",
    "outputId": "d95350a1-a34b-4287-8e38-d0f8420a271c"
   },
   "outputs": [
    {
     "data": {
      "text/plain": [
       "[0.8754050731658936,\n",
       " 0.3793877065181732,\n",
       " 0.36729276180267334,\n",
       " 0.7366895079612732,\n",
       " 0.38656091690063477]"
      ]
     },
     "execution_count": 158,
     "metadata": {
      "tags": []
     },
     "output_type": "execute_result"
    }
   ],
   "source": [
    "model_1_training.history['val_loss']"
   ]
  },
  {
   "cell_type": "code",
   "execution_count": 159,
   "metadata": {
    "colab": {
     "base_uri": "https://localhost:8080/"
    },
    "executionInfo": {
     "elapsed": 638,
     "status": "ok",
     "timestamp": 1617348979335,
     "user": {
      "displayName": "­박민우 / 학생 / 컴퓨터공학부",
      "photoUrl": "",
      "userId": "03447469205339352309"
     },
     "user_tz": -540
    },
    "id": "Vr_5BYZKABl7",
    "outputId": "de07c91b-5a3e-44a8-d8b7-39ae11b0e7a2"
   },
   "outputs": [
    {
     "data": {
      "text/plain": [
       "[7.860264301300049,\n",
       " 0.9559539556503296,\n",
       " 1.114813208580017,\n",
       " 0.5896802544593811,\n",
       " 1.1049915552139282,\n",
       " 0.5070306062698364,\n",
       " 1.1335753202438354,\n",
       " 0.47459906339645386,\n",
       " 1.6528050899505615,\n",
       " 2.1447670459747314]"
      ]
     },
     "execution_count": 159,
     "metadata": {
      "tags": []
     },
     "output_type": "execute_result"
    }
   ],
   "source": [
    "model_2_training.history['val_loss']"
   ]
  },
  {
   "cell_type": "markdown",
   "metadata": {
    "id": "vGS6Z17_1ppU"
   },
   "source": [
    "### Saving, reloading model"
   ]
  },
  {
   "cell_type": "code",
   "execution_count": 160,
   "metadata": {
    "executionInfo": {
     "elapsed": 629,
     "status": "ok",
     "timestamp": 1617349044104,
     "user": {
      "displayName": "­박민우 / 학생 / 컴퓨터공학부",
      "photoUrl": "",
      "userId": "03447469205339352309"
     },
     "user_tz": -540
    },
    "id": "FIGD_XqW1ppV"
   },
   "outputs": [],
   "source": [
    "from keras.models import load_model\n",
    "model.save('model_v1.h5')\n",
    "model_loaded = load_model('model_v1.h5')\n",
    "predictions = model_loaded.predict(X_test)\n",
    "probability_true = predictions[:,1]"
   ]
  },
  {
   "cell_type": "code",
   "execution_count": 161,
   "metadata": {
    "colab": {
     "base_uri": "https://localhost:8080/"
    },
    "executionInfo": {
     "elapsed": 583,
     "status": "ok",
     "timestamp": 1617349045931,
     "user": {
      "displayName": "­박민우 / 학생 / 컴퓨터공학부",
      "photoUrl": "",
      "userId": "03447469205339352309"
     },
     "user_tz": -540
    },
    "id": "Eot_B9Cr1ppV",
    "outputId": "1f9b6f56-36da-46a0-b021-90cebfbe3763"
   },
   "outputs": [
    {
     "data": {
      "text/plain": [
       "array([9.99936342e-01, 7.88249731e-01, 1.24344192e-01, 9.94551957e-01,\n",
       "       1.50673121e-04, 4.84754923e-13, 5.28931778e-05, 9.99056637e-01,\n",
       "       9.86937463e-01, 9.99670506e-01, 1.15562038e-09, 9.96454477e-01,\n",
       "       2.63793074e-04, 1.50178522e-07, 8.74888618e-03, 9.99481022e-01,\n",
       "       6.48621994e-04, 7.52336800e-01, 9.76189137e-01, 8.74401033e-01,\n",
       "       9.97774422e-01, 9.99929070e-01, 2.02492461e-01, 8.70988727e-01,\n",
       "       7.94855282e-07, 9.94448423e-01, 9.06236470e-01, 9.99729216e-01,\n",
       "       9.99361575e-01, 4.55399185e-01, 9.99305606e-01, 7.81333074e-05,\n",
       "       9.92888927e-01, 9.34658945e-01, 9.97896552e-01, 9.97887552e-01,\n",
       "       6.67566957e-04, 9.97028530e-01, 9.99790251e-01, 9.99810517e-01,\n",
       "       9.89168048e-01, 9.91170049e-01, 9.99784052e-01, 9.98925745e-01,\n",
       "       4.44748463e-18, 9.98774707e-01, 9.99539375e-01, 9.96134162e-01,\n",
       "       9.67322826e-01, 9.99918342e-01, 9.97510076e-01, 1.38787043e-04,\n",
       "       9.97298062e-01, 7.58225441e-01, 9.99026418e-01, 9.98858571e-01,\n",
       "       1.84644097e-12, 9.97821689e-01, 7.98014641e-01, 9.97751415e-01,\n",
       "       9.99585807e-01, 9.98691380e-01, 9.53729272e-01, 4.27378109e-03,\n",
       "       9.99496579e-01, 5.97512496e-07, 1.93355199e-08, 9.46659148e-01,\n",
       "       1.45592021e-13, 1.28464481e-12, 9.98709679e-01, 9.98951077e-01,\n",
       "       9.94006038e-01, 9.99427319e-01, 7.01478806e-16, 9.64280188e-01,\n",
       "       9.98961926e-01, 9.99783933e-01, 9.98127162e-01, 1.60394421e-07,\n",
       "       9.99096513e-01, 1.06018138e-04, 2.72989852e-16, 1.75216353e-09,\n",
       "       9.95941341e-01, 9.62731957e-01, 9.87379551e-01, 9.83140409e-01,\n",
       "       2.60316685e-10, 6.60470128e-01, 9.99932885e-01, 9.96422291e-01,\n",
       "       9.97267962e-01, 9.99267995e-01, 6.45343482e-01, 3.33526939e-01,\n",
       "       9.99481380e-01, 1.15497094e-02, 4.29036184e-08, 9.93998051e-01,\n",
       "       6.74102278e-21, 9.99751508e-01, 9.98916030e-01, 3.03869228e-07,\n",
       "       9.99669075e-01, 9.77100684e-14, 9.70131886e-09, 9.87459421e-01,\n",
       "       9.89888966e-01, 5.37000317e-03, 9.98599231e-01, 6.87088190e-14,\n",
       "       1.09379349e-25, 9.73751724e-01, 9.99071002e-01, 9.99665141e-01,\n",
       "       1.23190659e-11, 2.66511591e-07, 3.52711038e-04, 9.99651432e-01,\n",
       "       9.99777496e-01, 8.48660886e-01, 9.97807443e-01, 9.99540091e-01,\n",
       "       1.41512362e-06, 9.99725282e-01, 9.73024905e-01, 6.24179738e-05,\n",
       "       9.98810768e-01, 2.64142582e-05, 4.16726736e-32, 9.99517202e-01,\n",
       "       9.99498367e-01, 9.95562553e-01, 9.98894274e-01, 9.88887966e-01,\n",
       "       9.91475344e-01, 1.19482338e-05, 9.88923848e-01, 6.92599714e-01,\n",
       "       9.99950290e-01, 3.14063087e-09, 1.27930209e-04, 9.80799675e-01,\n",
       "       9.28035676e-01, 9.99735296e-01, 9.99966860e-01, 9.92954552e-01,\n",
       "       9.99002278e-01, 6.02909446e-01, 9.10345078e-01, 7.70486126e-22,\n",
       "       3.59172067e-11, 9.10840203e-09, 9.95548725e-01, 9.74175751e-01,\n",
       "       9.98940289e-01, 6.16441714e-04, 9.99540329e-01, 4.48037766e-13,\n",
       "       9.93218362e-01, 1.89242348e-01, 9.98574376e-01, 2.76582572e-20,\n",
       "       1.42678572e-03, 1.22553565e-01, 3.54714969e-14, 1.42750219e-01,\n",
       "       5.84698476e-08, 1.39683140e-02, 2.93592421e-08], dtype=float32)"
      ]
     },
     "execution_count": 161,
     "metadata": {
      "tags": []
     },
     "output_type": "execute_result"
    }
   ],
   "source": [
    "probability_true"
   ]
  },
  {
   "cell_type": "markdown",
   "metadata": {
    "id": "Fa6UZtch1ppV"
   },
   "source": [
    "### Minimizing a loss"
   ]
  },
  {
   "cell_type": "code",
   "execution_count": null,
   "metadata": {
    "colab": {
     "base_uri": "https://localhost:8080/"
    },
    "executionInfo": {
     "elapsed": 694,
     "status": "ok",
     "timestamp": 1617338051869,
     "user": {
      "displayName": "­박민우 / 학생 / 컴퓨터공학부",
      "photoUrl": "",
      "userId": "03447469205339352309"
     },
     "user_tz": -540
    },
    "id": "UIzbZv4d1ppW",
    "outputId": "ddab72f5-39de-41e3-b317-e78ee07d002c"
   },
   "outputs": [
    {
     "data": {
      "text/plain": [
       "array([0.])"
      ]
     },
     "execution_count": 98,
     "metadata": {
      "tags": []
     },
     "output_type": "execute_result"
    }
   ],
   "source": [
    "from scipy.optimize import minimize\n",
    "minimize(np.square, 0).x    # (objective function, initial value of weights)"
   ]
  },
  {
   "cell_type": "code",
   "execution_count": null,
   "metadata": {
    "colab": {
     "base_uri": "https://localhost:8080/"
    },
    "executionInfo": {
     "elapsed": 811,
     "status": "ok",
     "timestamp": 1617338052261,
     "user": {
      "displayName": "­박민우 / 학생 / 컴퓨터공학부",
      "photoUrl": "",
      "userId": "03447469205339352309"
     },
     "user_tz": -540
    },
    "id": "IRHxVt331ppW",
    "outputId": "db416692-2f08-4197-aede-0f8678bd9952"
   },
   "outputs": [
    {
     "name": "stdout",
     "output_type": "stream",
     "text": [
      "[1.799e+01 1.038e+01 1.228e+02 1.001e+03 1.184e-01 2.776e-01 3.001e-01\n",
      " 1.471e-01 2.419e-01 7.871e-02 1.095e+00 9.053e-01 8.589e+00 1.534e+02\n",
      " 6.399e-03 4.904e-02 5.373e-02 1.587e-02 3.003e-02 6.193e-03 2.538e+01\n",
      " 1.733e+01 1.846e+02 2.019e+03 1.622e-01 6.656e-01 7.119e-01 2.654e-01\n",
      " 4.601e-01 1.189e-01]\n",
      "[[ 0.43256471  0.16609862  0.41565465 -0.01727649 -0.01284757 -0.06631519\n",
      "  -0.09353841 -0.03890338 -0.0179643  -0.00336417  0.01646335  0.14248969\n",
      "   0.00670284 -0.08906389 -0.00123177 -0.01486839 -0.0204674  -0.00517467\n",
      "  -0.00442618 -0.00132979  0.45485546 -0.28424992 -0.23239429 -0.01103689\n",
      "  -0.02408195 -0.21161677 -0.26348522 -0.0759322  -0.05953422 -0.0195087 ]]\n"
     ]
    },
    {
     "name": "stderr",
     "output_type": "stream",
     "text": [
      "/usr/local/lib/python3.7/dist-packages/sklearn/linear_model/_logistic.py:940: ConvergenceWarning: lbfgs failed to converge (status=1):\n",
      "STOP: TOTAL NO. of ITERATIONS REACHED LIMIT.\n",
      "\n",
      "Increase the number of iterations (max_iter) or scale the data as shown in:\n",
      "    https://scikit-learn.org/stable/modules/preprocessing.html\n",
      "Please also refer to the documentation for alternative solver options:\n",
      "    https://scikit-learn.org/stable/modules/linear_model.html#logistic-regression\n",
      "  extra_warning_msg=_LOGISTIC_SOLVER_CONVERGENCE_MSG)\n"
     ]
    }
   ],
   "source": [
    "def log_loss(raw_model_output):\n",
    "    return np.log(1+np.exp(-raw_model_output))\n",
    "\n",
    "# The logistic loss, summed over training examples\n",
    "def my_loss(w):\n",
    "    s = 0\n",
    "    for i in range(X.shape[0]):\n",
    "        raw_model_output = w@X[i]\n",
    "        s = s + log_loss(raw_model_output * y[i])\n",
    "    return s\n",
    "\n",
    "# Returns the w that makes my_loss(w) smallest\n",
    "w_fit = minimize(my_loss, X[0], method='BFGS').x\n",
    "print(w_fit)\n",
    "\n",
    "# Compare with scikit-learn's LogisticRegression\n",
    "lr = LogisticRegression(fit_intercept=False, C=10000000, solver='lbfgs').fit(X,y)\n",
    "print(lr.coef_)"
   ]
  },
  {
   "cell_type": "code",
   "execution_count": null,
   "metadata": {
    "id": "CDf8JGutBiD4"
   },
   "outputs": [],
   "source": []
  }
 ],
 "metadata": {
  "colab": {
   "name": "IT기초_Week5_LDA_QDA_LR_SVM_Perceptron_lecture.ipynb",
   "provenance": [
    {
     "file_id": "1I_p6yzLmOLRaD_vCWB6UoKH2wMzx0NTc",
     "timestamp": 1617324062920
    }
   ]
  },
  "kernelspec": {
   "display_name": "Python 3",
   "language": "python",
   "name": "python3"
  },
  "language_info": {
   "codemirror_mode": {
    "name": "ipython",
    "version": 3
   },
   "file_extension": ".py",
   "mimetype": "text/x-python",
   "name": "python",
   "nbconvert_exporter": "python",
   "pygments_lexer": "ipython3",
   "version": "3.8.5"
  }
 },
 "nbformat": 4,
 "nbformat_minor": 1
}
